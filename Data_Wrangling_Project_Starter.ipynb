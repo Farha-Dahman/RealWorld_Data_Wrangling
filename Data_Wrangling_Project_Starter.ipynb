{
 "cells": [
  {
   "cell_type": "markdown",
   "metadata": {
    "id": "GNIwe5N7s0e_"
   },
   "source": [
    "## Real-world Data Wrangling"
   ]
  },
  {
   "cell_type": "markdown",
   "metadata": {
    "id": "_BG63Tpg8ep_"
   },
   "source": [
    "In this project, you will apply the skills you acquired in the course to gather and wrangle real-world data with two datasets of your choice.\n",
    "\n",
    "You will retrieve and extract the data, assess the data programmatically and visually, accross elements of data quality and structure, and implement a cleaning strategy for the data. You will then store the updated data into your selected database/data store, combine the data, and answer a research question with the datasets.\n",
    "\n",
    "Throughout the process, you are expected to:\n",
    "\n",
    "1. Explain your decisions towards methods used for gathering, assessing, cleaning, storing, and answering the research question\n",
    "2. Write code comments so your code is more readable\n",
    "\n",
    "Before you start, install the some of the required packages. "
   ]
  },
  {
   "cell_type": "code",
   "execution_count": 1,
   "metadata": {},
   "outputs": [
    {
     "name": "stdout",
     "output_type": "stream",
     "text": [
      "Defaulting to user installation because normal site-packages is not writeable\n",
      "Collecting kaggle==1.6.12\n",
      "  Downloading kaggle-1.6.12.tar.gz (79 kB)\n",
      "\u001b[2K     \u001b[90m━━━━━━━━━━━━━━━━━━━━━━━━━━━━━━━━━━━━━━━━\u001b[0m \u001b[32m79.7/79.7 kB\u001b[0m \u001b[31m1.4 MB/s\u001b[0m eta \u001b[36m0:00:00\u001b[0ma \u001b[36m0:00:01\u001b[0m\n",
      "\u001b[?25h  Preparing metadata (setup.py) ... \u001b[?25ldone\n",
      "\u001b[?25hRequirement already satisfied: six>=1.10 in /opt/conda/lib/python3.10/site-packages (from kaggle==1.6.12) (1.16.0)\n",
      "Collecting certifi>=2023.7.22\n",
      "  Downloading certifi-2024.8.30-py3-none-any.whl (167 kB)\n",
      "\u001b[2K     \u001b[90m━━━━━━━━━━━━━━━━━━━━━━━━━━━━━━━━━━━━━━━\u001b[0m \u001b[32m167.3/167.3 kB\u001b[0m \u001b[31m9.2 MB/s\u001b[0m eta \u001b[36m0:00:00\u001b[0m\n",
      "\u001b[?25hRequirement already satisfied: python-dateutil in /opt/conda/lib/python3.10/site-packages (from kaggle==1.6.12) (2.9.0.post0)\n",
      "Requirement already satisfied: requests in /opt/conda/lib/python3.10/site-packages (from kaggle==1.6.12) (2.29.0)\n",
      "Requirement already satisfied: tqdm in /opt/conda/lib/python3.10/site-packages (from kaggle==1.6.12) (4.65.0)\n",
      "Collecting python-slugify\n",
      "  Downloading python_slugify-8.0.4-py2.py3-none-any.whl (10 kB)\n",
      "Requirement already satisfied: urllib3 in /opt/conda/lib/python3.10/site-packages (from kaggle==1.6.12) (1.26.15)\n",
      "Requirement already satisfied: bleach in /opt/conda/lib/python3.10/site-packages (from kaggle==1.6.12) (6.1.0)\n",
      "Requirement already satisfied: webencodings in /opt/conda/lib/python3.10/site-packages (from bleach->kaggle==1.6.12) (0.5.1)\n",
      "Collecting text-unidecode>=1.3\n",
      "  Downloading text_unidecode-1.3-py2.py3-none-any.whl (78 kB)\n",
      "\u001b[2K     \u001b[90m━━━━━━━━━━━━━━━━━━━━━━━━━━━━━━━━━━━━━━━━\u001b[0m \u001b[32m78.2/78.2 kB\u001b[0m \u001b[31m14.7 MB/s\u001b[0m eta \u001b[36m0:00:00\u001b[0m\n",
      "\u001b[?25hRequirement already satisfied: idna<4,>=2.5 in /opt/conda/lib/python3.10/site-packages (from requests->kaggle==1.6.12) (3.4)\n",
      "Requirement already satisfied: charset-normalizer<4,>=2 in /opt/conda/lib/python3.10/site-packages (from requests->kaggle==1.6.12) (2.0.4)\n",
      "Building wheels for collected packages: kaggle\n",
      "  Building wheel for kaggle (setup.py) ... \u001b[?25ldone\n",
      "\u001b[?25h  Created wheel for kaggle: filename=kaggle-1.6.12-py3-none-any.whl size=102969 sha256=0d02ba05b6e94af59eb9c5c51285ab5e5fef7e4146e630b02727a849f571c1fa\n",
      "  Stored in directory: /home/student/.cache/pip/wheels/1e/0b/7c/50f8e89c3d2f82838dbd7afeddffbb9357003009ada98216c7\n",
      "Successfully built kaggle\n",
      "Installing collected packages: text-unidecode, python-slugify, certifi, kaggle\n",
      "\u001b[33m  WARNING: The script slugify is installed in '/home/student/.local/bin' which is not on PATH.\n",
      "  Consider adding this directory to PATH or, if you prefer to suppress this warning, use --no-warn-script-location.\u001b[0m\u001b[33m\n",
      "\u001b[0m\u001b[33m  WARNING: The script kaggle is installed in '/home/student/.local/bin' which is not on PATH.\n",
      "  Consider adding this directory to PATH or, if you prefer to suppress this warning, use --no-warn-script-location.\u001b[0m\u001b[33m\n",
      "\u001b[0mSuccessfully installed certifi-2024.8.30 kaggle-1.6.12 python-slugify-8.0.4 text-unidecode-1.3\n"
     ]
    }
   ],
   "source": [
    "!python -m pip install kaggle==1.6.12"
   ]
  },
  {
   "cell_type": "code",
   "execution_count": 2,
   "metadata": {},
   "outputs": [
    {
     "name": "stdout",
     "output_type": "stream",
     "text": [
      "Collecting ucimlrepo\n",
      "  Downloading ucimlrepo-0.0.7-py3-none-any.whl (8.0 kB)\n",
      "Collecting numpy==1.24.3\n",
      "  Downloading numpy-1.24.3-cp310-cp310-manylinux_2_17_x86_64.manylinux2014_x86_64.whl (17.3 MB)\n",
      "\u001b[2K     \u001b[90m━━━━━━━━━━━━━━━━━━━━━━━━━━━━━━━━━━━━━━━━\u001b[0m \u001b[32m17.3/17.3 MB\u001b[0m \u001b[31m65.9 MB/s\u001b[0m eta \u001b[36m0:00:00\u001b[0m00:01\u001b[0m00:01\u001b[0m\n",
      "\u001b[?25hCollecting certifi>=2020.12.5\n",
      "  Using cached certifi-2024.8.30-py3-none-any.whl (167 kB)\n",
      "Collecting pandas>=1.0.0\n",
      "  Downloading pandas-2.2.3-cp310-cp310-manylinux_2_17_x86_64.manylinux2014_x86_64.whl (13.1 MB)\n",
      "\u001b[2K     \u001b[90m━━━━━━━━━━━━━━━━━━━━━━━━━━━━━━━━━━━━━━━━\u001b[0m \u001b[32m13.1/13.1 MB\u001b[0m \u001b[31m73.6 MB/s\u001b[0m eta \u001b[36m0:00:00\u001b[0m00:01\u001b[0m00:01\u001b[0m\n",
      "\u001b[?25hCollecting pytz>=2020.1\n",
      "  Downloading pytz-2024.2-py2.py3-none-any.whl (508 kB)\n",
      "\u001b[2K     \u001b[90m━━━━━━━━━━━━━━━━━━━━━━━━━━━━━━━━━━━━━━\u001b[0m \u001b[32m508.0/508.0 kB\u001b[0m \u001b[31m44.6 MB/s\u001b[0m eta \u001b[36m0:00:00\u001b[0m\n",
      "\u001b[?25hCollecting python-dateutil>=2.8.2\n",
      "  Downloading python_dateutil-2.9.0.post0-py2.py3-none-any.whl (229 kB)\n",
      "\u001b[2K     \u001b[90m━━━━━━━━━━━━━━━━━━━━━━━━━━━━━━━━━━━━━━\u001b[0m \u001b[32m229.9/229.9 kB\u001b[0m \u001b[31m32.6 MB/s\u001b[0m eta \u001b[36m0:00:00\u001b[0m\n",
      "\u001b[?25hCollecting tzdata>=2022.7\n",
      "  Downloading tzdata-2024.2-py2.py3-none-any.whl (346 kB)\n",
      "\u001b[2K     \u001b[90m━━━━━━━━━━━━━━━━━━━━━━━━━━━━━━━━━━━━━━\u001b[0m \u001b[32m346.6/346.6 kB\u001b[0m \u001b[31m41.1 MB/s\u001b[0m eta \u001b[36m0:00:00\u001b[0m\n",
      "\u001b[?25hCollecting six>=1.5\n",
      "  Downloading six-1.16.0-py2.py3-none-any.whl (11 kB)\n",
      "Installing collected packages: pytz, tzdata, six, numpy, certifi, python-dateutil, pandas, ucimlrepo\n",
      "Successfully installed certifi-2024.8.30 numpy-1.24.3 pandas-2.2.3 python-dateutil-2.9.0.post0 pytz-2024.2 six-1.16.0 tzdata-2024.2 ucimlrepo-0.0.7\n"
     ]
    }
   ],
   "source": [
    "!pip install --target=/workspace ucimlrepo numpy==1.24.3"
   ]
  },
  {
   "cell_type": "markdown",
   "metadata": {},
   "source": [
    "**Note:** Restart the kernel to use updated package(s)."
   ]
  },
  {
   "cell_type": "markdown",
   "metadata": {
    "id": "lDYDkH-Zs7Nn"
   },
   "source": [
    "## 1. Gather data\n",
    "\n",
    "In this section, you will extract data using two different data gathering methods and combine the data. Use at least two different types of data-gathering methods."
   ]
  },
  {
   "cell_type": "markdown",
   "metadata": {
    "id": "LbN7z7rcuqpO"
   },
   "source": [
    "### **1.1.** Problem Statement\n",
    "In 2-4 sentences, explain the kind of problem you want to look at and the datasets you will be wrangling for this project."
   ]
  },
  {
   "cell_type": "markdown",
   "metadata": {
    "id": "gi6swhjSYqu2"
   },
   "source": [
    "Finding the right datasets can be time-consuming. Here we provide you with a list of websites to start with. But we encourage you to explore more websites and find the data that interests you.\n",
    "\n",
    "* Google Dataset Search https://datasetsearch.research.google.com/\n",
    "* The U.S. Government’s open data https://data.gov/\n",
    "* UCI Machine Learning Repository https://archive.ics.uci.edu/ml/index.php\n"
   ]
  },
  {
   "cell_type": "markdown",
   "metadata": {
    "id": "8AQfBAdUypMm"
   },
   "source": [
    "### **1.2.** Gather at least two datasets using two different data gathering methods\n",
    "\n",
    "***About the Datasets:***\n",
    "\n",
    "This dataset was selected for its detailed records of box office performance, which enable in-depth analysis of movie revenue trends and industry patterns. It includes essential variables such as **daily earnings**, **active theaters**, **budget**, **distributor**, and **MPAA rating**, which are significant for studying factors influencing box office success. The inclusion of movie-specific details like **genres** and **runtime** offers additional insights into content-related attributes affecting performance. \n",
    "\n",
    "- **Attributes_DataFrame:** For each movie Title, include total domestic earnings, international earnings, budget, Distributor, MPAA-Rating, Runtime, Genre.\n",
    "\n",
    "- **Daily_DataFrame:** For each title and date, includes daily earnings, number of theatres active, and daily rank among other movies being shown.\n",
    "\n"
   ]
  },
  {
   "cell_type": "code",
   "execution_count": 1,
   "metadata": {},
   "outputs": [],
   "source": [
    "# Dawnload important pacekges \n",
    "import os\n",
    "import requests\n",
    "import pandas as pd\n",
    "import numpy as np\n",
    "import matplotlib.pyplot as plt\n",
    "import seaborn as sns"
   ]
  },
  {
   "cell_type": "markdown",
   "metadata": {
    "id": "hoUjq1tPzz7P"
   },
   "source": [
    "#### Dataset 1: Attributes_DataFrame.csv\n",
    "\n",
    "Type: CSV File.\n",
    "\n",
    "Method: The data was gathered using the Programmatically downloading files.\n",
    "\n",
    "**Dataset variables:**\n",
    "\n",
    "*   Title: Title (Including Year)\n",
    "\n",
    "*   Domestic: Total Domestic Earnings (US)\n",
    "\n",
    "*   International: Total International Earnings\n",
    "\n",
    "*   Budget: Budget if available, almost 30% are NaN\n",
    "\n",
    "*   Distributor: Distributor\n",
    "\n",
    "*   MPAA-Rating: MPAA Rating\n",
    "\n",
    "*   Runtime: Movie Runetime\n",
    "\n",
    "*   Genres: Listed Genres"
   ]
  },
  {
   "cell_type": "code",
   "execution_count": 2,
   "metadata": {
    "id": "6zT0QxRyYmm7"
   },
   "outputs": [],
   "source": [
    "# Declare the url for our dataset\n",
    "dataset_path = \"lukelarue/movie-attributes-for-3400-movies-from-20002020\"\n",
    "file_name = \"Attributes_DataFrame.csv\"\n",
    "dataset_url = f\"https://www.kaggle.com/api/v1/datasets/download/{dataset_path}/{file_name}\"\n",
    "\n",
    "# Declare the folder name for our datasets\n",
    "datasets_folder_name = \"datasets\""
   ]
  },
  {
   "cell_type": "code",
   "execution_count": 3,
   "metadata": {
    "scrolled": true
   },
   "outputs": [],
   "source": [
    "# Make HTTP get request to get our file using the URL var we declared in a previous cell\n",
    "get_file_response = requests.get(dataset_url)\n",
    "\n",
    "# Rise an exeption\n",
    "get_file_response.raise_for_status()\n",
    "\n",
    "# Loacl file path will be our dataset folder concated with th file name\n",
    "local_file_path = os.path.join(datasets_folder_name, dataset_url.split('/')[-1])\n",
    "\n",
    "# Ensure the datasets directory exists\n",
    "os.makedirs(datasets_folder_name, exist_ok=True)\n",
    "\n",
    "# Writing the file locally\n",
    "with open(local_file_path, mode='wb') as file:\n",
    "    file.write(get_file_response.content)"
   ]
  },
  {
   "cell_type": "code",
   "execution_count": 4,
   "metadata": {},
   "outputs": [
    {
     "data": {
      "text/html": [
       "<div>\n",
       "<style scoped>\n",
       "    .dataframe tbody tr th:only-of-type {\n",
       "        vertical-align: middle;\n",
       "    }\n",
       "\n",
       "    .dataframe tbody tr th {\n",
       "        vertical-align: top;\n",
       "    }\n",
       "\n",
       "    .dataframe thead th {\n",
       "        text-align: right;\n",
       "    }\n",
       "</style>\n",
       "<table border=\"1\" class=\"dataframe\">\n",
       "  <thead>\n",
       "    <tr style=\"text-align: right;\">\n",
       "      <th></th>\n",
       "      <th>Title</th>\n",
       "      <th>Domestic</th>\n",
       "      <th>International</th>\n",
       "      <th>Budget</th>\n",
       "      <th>Distributor</th>\n",
       "      <th>MPAA-Rating</th>\n",
       "      <th>Runtime</th>\n",
       "      <th>Genres</th>\n",
       "    </tr>\n",
       "  </thead>\n",
       "  <tbody>\n",
       "    <tr>\n",
       "      <th>0</th>\n",
       "      <td>Jurassic World (2015)</td>\n",
       "      <td>652270625</td>\n",
       "      <td>1018130012</td>\n",
       "      <td>150000000.0</td>\n",
       "      <td>Universal Pictures</td>\n",
       "      <td>PG-13</td>\n",
       "      <td>124</td>\n",
       "      <td>Action;Adventure;Sci-Fi</td>\n",
       "    </tr>\n",
       "    <tr>\n",
       "      <th>1</th>\n",
       "      <td>Star Wars: Episode VII - The Force Awakens (2015)</td>\n",
       "      <td>936662225</td>\n",
       "      <td>1131561399</td>\n",
       "      <td>245000000.0</td>\n",
       "      <td>Walt Disney Studios Motion Pictures</td>\n",
       "      <td>PG-13</td>\n",
       "      <td>138</td>\n",
       "      <td>Action;Adventure;Sci-Fi</td>\n",
       "    </tr>\n",
       "    <tr>\n",
       "      <th>2</th>\n",
       "      <td>Avengers: Age of Ultron (2015)</td>\n",
       "      <td>459005868</td>\n",
       "      <td>943800000</td>\n",
       "      <td>250000000.0</td>\n",
       "      <td>Walt Disney Studios Motion Pictures</td>\n",
       "      <td>PG-13</td>\n",
       "      <td>141</td>\n",
       "      <td>Action;Adventure;Sci-Fi</td>\n",
       "    </tr>\n",
       "    <tr>\n",
       "      <th>3</th>\n",
       "      <td>Inside Out (2015)</td>\n",
       "      <td>356461711</td>\n",
       "      <td>501149463</td>\n",
       "      <td>175000000.0</td>\n",
       "      <td>Walt Disney Studios Motion Pictures</td>\n",
       "      <td>PG</td>\n",
       "      <td>95</td>\n",
       "      <td>Adventure;Animation;Comedy;Drama;Family;Fantasy</td>\n",
       "    </tr>\n",
       "    <tr>\n",
       "      <th>4</th>\n",
       "      <td>Furious 7 (2015)</td>\n",
       "      <td>353007020</td>\n",
       "      <td>1162040651</td>\n",
       "      <td>190000000.0</td>\n",
       "      <td>Universal Pictures</td>\n",
       "      <td>PG-13</td>\n",
       "      <td>137</td>\n",
       "      <td>Action;Adventure;Thriller</td>\n",
       "    </tr>\n",
       "  </tbody>\n",
       "</table>\n",
       "</div>"
      ],
      "text/plain": [
       "                                               Title   Domestic  \\\n",
       "0                              Jurassic World (2015)  652270625   \n",
       "1  Star Wars: Episode VII - The Force Awakens (2015)  936662225   \n",
       "2                     Avengers: Age of Ultron (2015)  459005868   \n",
       "3                                  Inside Out (2015)  356461711   \n",
       "4                                   Furious 7 (2015)  353007020   \n",
       "\n",
       "   International       Budget                          Distributor  \\\n",
       "0     1018130012  150000000.0                   Universal Pictures   \n",
       "1     1131561399  245000000.0  Walt Disney Studios Motion Pictures   \n",
       "2      943800000  250000000.0  Walt Disney Studios Motion Pictures   \n",
       "3      501149463  175000000.0  Walt Disney Studios Motion Pictures   \n",
       "4     1162040651  190000000.0                   Universal Pictures   \n",
       "\n",
       "  MPAA-Rating  Runtime                                           Genres  \n",
       "0       PG-13      124                          Action;Adventure;Sci-Fi  \n",
       "1       PG-13      138                          Action;Adventure;Sci-Fi  \n",
       "2       PG-13      141                          Action;Adventure;Sci-Fi  \n",
       "3          PG       95  Adventure;Animation;Comedy;Drama;Family;Fantasy  \n",
       "4       PG-13      137                        Action;Adventure;Thriller  "
      ]
     },
     "execution_count": 4,
     "metadata": {},
     "output_type": "execute_result"
    }
   ],
   "source": [
    "attributes_df = pd.read_csv(local_file_path)\n",
    "attributes_df.head()"
   ]
  },
  {
   "cell_type": "markdown",
   "metadata": {
    "id": "7e6gS0wL1KTu"
   },
   "source": [
    "#### **Dataset 2: Daily_DataFrame.csv**\n",
    "\n",
    "Type: CSV File.\n",
    "\n",
    "Method: The data was gathered using the Download data manually.\n",
    "\n",
    "**Dataset variables:**\n",
    "\n",
    "*   Movie_Title: Title (Including Release Year).\n",
    "\n",
    "*   Date: Date of the Data Point.\n",
    "\n",
    "*   Daily: Daily Earnings -- Some movies in 2020 have very few data points because of a COVID down-year and should be removed.\n",
    "\n",
    "*   Theaters: Number of current theatres showing the film -- Few theatres at the beginning indicates a limited release.\n",
    "\n",
    "*   Rank: Daily earnings rank compared to other films being showed."
   ]
  },
  {
   "cell_type": "code",
   "execution_count": 4,
   "metadata": {
    "id": "Su8E0uLuYkHU"
   },
   "outputs": [
    {
     "data": {
      "text/html": [
       "<div>\n",
       "<style scoped>\n",
       "    .dataframe tbody tr th:only-of-type {\n",
       "        vertical-align: middle;\n",
       "    }\n",
       "\n",
       "    .dataframe tbody tr th {\n",
       "        vertical-align: top;\n",
       "    }\n",
       "\n",
       "    .dataframe thead th {\n",
       "        text-align: right;\n",
       "    }\n",
       "</style>\n",
       "<table border=\"1\" class=\"dataframe\">\n",
       "  <thead>\n",
       "    <tr style=\"text-align: right;\">\n",
       "      <th></th>\n",
       "      <th>Movie_Title</th>\n",
       "      <th>Date</th>\n",
       "      <th>Daily</th>\n",
       "      <th>Theaters</th>\n",
       "      <th>Rank</th>\n",
       "    </tr>\n",
       "  </thead>\n",
       "  <tbody>\n",
       "    <tr>\n",
       "      <th>0</th>\n",
       "      <td>Jurassic World (2015)</td>\n",
       "      <td>2015-06-12</td>\n",
       "      <td>81953950</td>\n",
       "      <td>4274.0</td>\n",
       "      <td>1</td>\n",
       "    </tr>\n",
       "    <tr>\n",
       "      <th>1</th>\n",
       "      <td>Jurassic World (2015)</td>\n",
       "      <td>2015-06-13</td>\n",
       "      <td>69644830</td>\n",
       "      <td>4274.0</td>\n",
       "      <td>1</td>\n",
       "    </tr>\n",
       "    <tr>\n",
       "      <th>2</th>\n",
       "      <td>Jurassic World (2015)</td>\n",
       "      <td>2015-06-14</td>\n",
       "      <td>57207490</td>\n",
       "      <td>4274.0</td>\n",
       "      <td>1</td>\n",
       "    </tr>\n",
       "    <tr>\n",
       "      <th>3</th>\n",
       "      <td>Jurassic World (2015)</td>\n",
       "      <td>2015-06-15</td>\n",
       "      <td>25344820</td>\n",
       "      <td>4274.0</td>\n",
       "      <td>1</td>\n",
       "    </tr>\n",
       "    <tr>\n",
       "      <th>4</th>\n",
       "      <td>Jurassic World (2015)</td>\n",
       "      <td>2015-06-16</td>\n",
       "      <td>24342515</td>\n",
       "      <td>4274.0</td>\n",
       "      <td>1</td>\n",
       "    </tr>\n",
       "  </tbody>\n",
       "</table>\n",
       "</div>"
      ],
      "text/plain": [
       "             Movie_Title        Date     Daily  Theaters  Rank\n",
       "0  Jurassic World (2015)  2015-06-12  81953950    4274.0     1\n",
       "1  Jurassic World (2015)  2015-06-13  69644830    4274.0     1\n",
       "2  Jurassic World (2015)  2015-06-14  57207490    4274.0     1\n",
       "3  Jurassic World (2015)  2015-06-15  25344820    4274.0     1\n",
       "4  Jurassic World (2015)  2015-06-16  24342515    4274.0     1"
      ]
     },
     "execution_count": 4,
     "metadata": {},
     "output_type": "execute_result"
    }
   ],
   "source": [
    "# We downloading dataset manually and reading it.\n",
    "daily_df = pd.read_csv(\"datasets/Daily_DataFrame.csv\")\n",
    "daily_df.head()"
   ]
  },
  {
   "cell_type": "markdown",
   "metadata": {},
   "source": [
    "### Make copies of the datasets to ensure the raw dataframes are not impacted\n",
    "Optional data storing step: You may save your raw dataset files to the local data store before moving to the next step."
   ]
  },
  {
   "cell_type": "code",
   "execution_count": 6,
   "metadata": {},
   "outputs": [],
   "source": [
    "# Attributes_DataFrame raw dataset\n",
    "raw_data_folder_name = \"raw_data\"\n",
    "\n",
    "os.makedirs(raw_data_folder_name, exist_ok=True)\n",
    "\n",
    "raw_attributes_path = os.path.join(raw_data_folder_name, file_name)\n",
    "\n",
    "with open(raw_attributes_path, mode='wb') as file:\n",
    "    file.write(get_file_response.content)"
   ]
  },
  {
   "cell_type": "code",
   "execution_count": 7,
   "metadata": {},
   "outputs": [
    {
     "data": {
      "text/html": [
       "<div>\n",
       "<style scoped>\n",
       "    .dataframe tbody tr th:only-of-type {\n",
       "        vertical-align: middle;\n",
       "    }\n",
       "\n",
       "    .dataframe tbody tr th {\n",
       "        vertical-align: top;\n",
       "    }\n",
       "\n",
       "    .dataframe thead th {\n",
       "        text-align: right;\n",
       "    }\n",
       "</style>\n",
       "<table border=\"1\" class=\"dataframe\">\n",
       "  <thead>\n",
       "    <tr style=\"text-align: right;\">\n",
       "      <th></th>\n",
       "      <th>Movie_Title</th>\n",
       "      <th>Date</th>\n",
       "      <th>Daily</th>\n",
       "      <th>Theaters</th>\n",
       "      <th>Rank</th>\n",
       "    </tr>\n",
       "  </thead>\n",
       "  <tbody>\n",
       "    <tr>\n",
       "      <th>0</th>\n",
       "      <td>Jurassic World (2015)</td>\n",
       "      <td>2015-06-12</td>\n",
       "      <td>81953950</td>\n",
       "      <td>4274.0</td>\n",
       "      <td>1</td>\n",
       "    </tr>\n",
       "    <tr>\n",
       "      <th>1</th>\n",
       "      <td>Jurassic World (2015)</td>\n",
       "      <td>2015-06-13</td>\n",
       "      <td>69644830</td>\n",
       "      <td>4274.0</td>\n",
       "      <td>1</td>\n",
       "    </tr>\n",
       "    <tr>\n",
       "      <th>2</th>\n",
       "      <td>Jurassic World (2015)</td>\n",
       "      <td>2015-06-14</td>\n",
       "      <td>57207490</td>\n",
       "      <td>4274.0</td>\n",
       "      <td>1</td>\n",
       "    </tr>\n",
       "    <tr>\n",
       "      <th>3</th>\n",
       "      <td>Jurassic World (2015)</td>\n",
       "      <td>2015-06-15</td>\n",
       "      <td>25344820</td>\n",
       "      <td>4274.0</td>\n",
       "      <td>1</td>\n",
       "    </tr>\n",
       "    <tr>\n",
       "      <th>4</th>\n",
       "      <td>Jurassic World (2015)</td>\n",
       "      <td>2015-06-16</td>\n",
       "      <td>24342515</td>\n",
       "      <td>4274.0</td>\n",
       "      <td>1</td>\n",
       "    </tr>\n",
       "  </tbody>\n",
       "</table>\n",
       "</div>"
      ],
      "text/plain": [
       "             Movie_Title        Date     Daily  Theaters  Rank\n",
       "0  Jurassic World (2015)  2015-06-12  81953950    4274.0     1\n",
       "1  Jurassic World (2015)  2015-06-13  69644830    4274.0     1\n",
       "2  Jurassic World (2015)  2015-06-14  57207490    4274.0     1\n",
       "3  Jurassic World (2015)  2015-06-15  25344820    4274.0     1\n",
       "4  Jurassic World (2015)  2015-06-16  24342515    4274.0     1"
      ]
     },
     "execution_count": 7,
     "metadata": {},
     "output_type": "execute_result"
    }
   ],
   "source": [
    "# Daily_DataFrame raw dataset\n",
    "raw_daily_df = pd.read_csv(\"raw_data/Daily_DataFrame.csv\")\n",
    "raw_daily_df.head()"
   ]
  },
  {
   "cell_type": "markdown",
   "metadata": {
    "id": "QwSWIVmotLgV"
   },
   "source": [
    "## 2. Assess data"
   ]
  },
  {
   "cell_type": "markdown",
   "metadata": {
    "id": "adaK2iPNzVu4"
   },
   "source": [
    "### Quality Issue 1:\n",
    "### Missing Values or Data\n"
   ]
  },
  {
   "cell_type": "markdown",
   "metadata": {},
   "source": [
    "#### Missing Values or Data in Attributes_Dataframe:\n",
    "\n",
    "Inspecting the Attributes_Dataframe visually and programmatically:"
   ]
  },
  {
   "cell_type": "code",
   "execution_count": 8,
   "metadata": {},
   "outputs": [
    {
     "data": {
      "text/html": [
       "<div>\n",
       "<style scoped>\n",
       "    .dataframe tbody tr th:only-of-type {\n",
       "        vertical-align: middle;\n",
       "    }\n",
       "\n",
       "    .dataframe tbody tr th {\n",
       "        vertical-align: top;\n",
       "    }\n",
       "\n",
       "    .dataframe thead th {\n",
       "        text-align: right;\n",
       "    }\n",
       "</style>\n",
       "<table border=\"1\" class=\"dataframe\">\n",
       "  <thead>\n",
       "    <tr style=\"text-align: right;\">\n",
       "      <th></th>\n",
       "      <th>Title</th>\n",
       "      <th>Domestic</th>\n",
       "      <th>International</th>\n",
       "      <th>Budget</th>\n",
       "      <th>Distributor</th>\n",
       "      <th>MPAA-Rating</th>\n",
       "      <th>Runtime</th>\n",
       "      <th>Genres</th>\n",
       "    </tr>\n",
       "  </thead>\n",
       "  <tbody>\n",
       "    <tr>\n",
       "      <th>3395</th>\n",
       "      <td>The Wolf of Snow Hollow (2020)</td>\n",
       "      <td>185026</td>\n",
       "      <td>81937</td>\n",
       "      <td>NaN</td>\n",
       "      <td>United Artists Releasing</td>\n",
       "      <td>R</td>\n",
       "      <td>83</td>\n",
       "      <td>Comedy;Horror;Thriller</td>\n",
       "    </tr>\n",
       "    <tr>\n",
       "      <th>3396</th>\n",
       "      <td>Come Away (2020)</td>\n",
       "      <td>184477</td>\n",
       "      <td>1480982</td>\n",
       "      <td>NaN</td>\n",
       "      <td>Relativity Media</td>\n",
       "      <td>PG</td>\n",
       "      <td>94</td>\n",
       "      <td>Adventure;Drama;Fantasy</td>\n",
       "    </tr>\n",
       "    <tr>\n",
       "      <th>3397</th>\n",
       "      <td>No Escape (2020)</td>\n",
       "      <td>167962</td>\n",
       "      <td>4135870</td>\n",
       "      <td>NaN</td>\n",
       "      <td>Vertical Entertainment</td>\n",
       "      <td>R</td>\n",
       "      <td>91</td>\n",
       "      <td>Adventure;Horror;Mystery;Thriller</td>\n",
       "    </tr>\n",
       "    <tr>\n",
       "      <th>3398</th>\n",
       "      <td>A Call to Spy (2020)</td>\n",
       "      <td>159014</td>\n",
       "      <td>681026</td>\n",
       "      <td>NaN</td>\n",
       "      <td>IFC Films</td>\n",
       "      <td>PG-13</td>\n",
       "      <td>123</td>\n",
       "      <td>Biography;Crime;Drama;Thriller;War</td>\n",
       "    </tr>\n",
       "    <tr>\n",
       "      <th>3399</th>\n",
       "      <td>Love Story (2020)</td>\n",
       "      <td>153504</td>\n",
       "      <td>153504</td>\n",
       "      <td>NaN</td>\n",
       "      <td>Fathom Events</td>\n",
       "      <td>PG</td>\n",
       "      <td>100</td>\n",
       "      <td>Drama;Romance</td>\n",
       "    </tr>\n",
       "  </tbody>\n",
       "</table>\n",
       "</div>"
      ],
      "text/plain": [
       "                               Title  Domestic  International  Budget  \\\n",
       "3395  The Wolf of Snow Hollow (2020)    185026          81937     NaN   \n",
       "3396                Come Away (2020)    184477        1480982     NaN   \n",
       "3397                No Escape (2020)    167962        4135870     NaN   \n",
       "3398            A Call to Spy (2020)    159014         681026     NaN   \n",
       "3399               Love Story (2020)    153504         153504     NaN   \n",
       "\n",
       "                   Distributor MPAA-Rating  Runtime  \\\n",
       "3395  United Artists Releasing           R       83   \n",
       "3396          Relativity Media          PG       94   \n",
       "3397    Vertical Entertainment           R       91   \n",
       "3398                 IFC Films       PG-13      123   \n",
       "3399             Fathom Events          PG      100   \n",
       "\n",
       "                                  Genres  \n",
       "3395              Comedy;Horror;Thriller  \n",
       "3396             Adventure;Drama;Fantasy  \n",
       "3397   Adventure;Horror;Mystery;Thriller  \n",
       "3398  Biography;Crime;Drama;Thriller;War  \n",
       "3399                       Drama;Romance  "
      ]
     },
     "execution_count": 8,
     "metadata": {},
     "output_type": "execute_result"
    }
   ],
   "source": [
    "# Inspecting the dataframe visually\n",
    "attributes_df.tail()"
   ]
  },
  {
   "cell_type": "code",
   "execution_count": 7,
   "metadata": {
    "id": "SpW59kh-zl8d"
   },
   "outputs": [
    {
     "name": "stdout",
     "output_type": "stream",
     "text": [
      "<class 'pandas.core.frame.DataFrame'>\n",
      "RangeIndex: 3400 entries, 0 to 3399\n",
      "Data columns (total 8 columns):\n",
      " #   Column         Non-Null Count  Dtype  \n",
      "---  ------         --------------  -----  \n",
      " 0   Title          3400 non-null   object \n",
      " 1   Domestic       3400 non-null   int64  \n",
      " 2   International  3400 non-null   int64  \n",
      " 3   Budget         2307 non-null   float64\n",
      " 4   Distributor    3399 non-null   object \n",
      " 5   MPAA-Rating    3244 non-null   object \n",
      " 6   Runtime        3400 non-null   int64  \n",
      " 7   Genres         3397 non-null   object \n",
      "dtypes: float64(1), int64(3), object(4)\n",
      "memory usage: 212.6+ KB\n"
     ]
    }
   ],
   "source": [
    "attributes_df.info()"
   ]
  },
  {
   "cell_type": "markdown",
   "metadata": {},
   "source": [
    "There are nulls vaules of the `Budget` & `Distributor` & `MPAA-Rating` columns in Attributes_Dataframe."
   ]
  },
  {
   "cell_type": "code",
   "execution_count": 8,
   "metadata": {},
   "outputs": [
    {
     "data": {
      "text/plain": [
       "Title               0\n",
       "Domestic            0\n",
       "International       0\n",
       "Budget           1093\n",
       "Distributor         1\n",
       "MPAA-Rating       156\n",
       "Runtime             0\n",
       "Genres              3\n",
       "dtype: int64"
      ]
     },
     "execution_count": 8,
     "metadata": {},
     "output_type": "execute_result"
    }
   ],
   "source": [
    "# Inspecting the dataframe programmatically\n",
    "attributes_df.isnull().sum()"
   ]
  },
  {
   "cell_type": "markdown",
   "metadata": {},
   "source": [
    "**Issue and justification:**\n",
    "- There is a missing value of **Attributes Dataset** which violates the Completeness.\n",
    "- The `Budget` column has 1,093 missing values, likely due to the unavailability of budget data for certain movies, especially older or independent films, or inconsistent reporting practices. Additionally, data might have been absent or incomplete data due to the COVID-19 pandemic, and some studios may deliberately avoid disclosing budgets for strategic reasons. "
   ]
  },
  {
   "cell_type": "markdown",
   "metadata": {},
   "source": [
    "#### Missing Values or Data in Daily_DataFrame:\n",
    "\n",
    "Inspecting the Daily_DataFrame visually and programmatically:"
   ]
  },
  {
   "cell_type": "code",
   "execution_count": 11,
   "metadata": {},
   "outputs": [
    {
     "data": {
      "text/html": [
       "<div>\n",
       "<style scoped>\n",
       "    .dataframe tbody tr th:only-of-type {\n",
       "        vertical-align: middle;\n",
       "    }\n",
       "\n",
       "    .dataframe tbody tr th {\n",
       "        vertical-align: top;\n",
       "    }\n",
       "\n",
       "    .dataframe thead th {\n",
       "        text-align: right;\n",
       "    }\n",
       "</style>\n",
       "<table border=\"1\" class=\"dataframe\">\n",
       "  <thead>\n",
       "    <tr style=\"text-align: right;\">\n",
       "      <th></th>\n",
       "      <th>Movie_Title</th>\n",
       "      <th>Date</th>\n",
       "      <th>Daily</th>\n",
       "      <th>Theaters</th>\n",
       "      <th>Rank</th>\n",
       "    </tr>\n",
       "  </thead>\n",
       "  <tbody>\n",
       "    <tr>\n",
       "      <th>16163</th>\n",
       "      <td>The Amazing Spider-Man (2012)</td>\n",
       "      <td>2012-07-02</td>\n",
       "      <td>850000</td>\n",
       "      <td>NaN</td>\n",
       "      <td>6</td>\n",
       "    </tr>\n",
       "    <tr>\n",
       "      <th>17118</th>\n",
       "      <td>Man of Steel (2013)</td>\n",
       "      <td>2013-06-13</td>\n",
       "      <td>12062124</td>\n",
       "      <td>NaN</td>\n",
       "      <td>1</td>\n",
       "    </tr>\n",
       "    <tr>\n",
       "      <th>25748</th>\n",
       "      <td>Stuart Little (1999)</td>\n",
       "      <td>2000-01-26</td>\n",
       "      <td>272059</td>\n",
       "      <td>NaN</td>\n",
       "      <td>6</td>\n",
       "    </tr>\n",
       "    <tr>\n",
       "      <th>25751</th>\n",
       "      <td>Stuart Little (1999)</td>\n",
       "      <td>2000-02-01</td>\n",
       "      <td>221984</td>\n",
       "      <td>NaN</td>\n",
       "      <td>3</td>\n",
       "    </tr>\n",
       "    <tr>\n",
       "      <th>25752</th>\n",
       "      <td>Stuart Little (1999)</td>\n",
       "      <td>2000-02-02</td>\n",
       "      <td>204462</td>\n",
       "      <td>NaN</td>\n",
       "      <td>3</td>\n",
       "    </tr>\n",
       "  </tbody>\n",
       "</table>\n",
       "</div>"
      ],
      "text/plain": [
       "                         Movie_Title        Date     Daily  Theaters  Rank\n",
       "16163  The Amazing Spider-Man (2012)  2012-07-02    850000       NaN     6\n",
       "17118            Man of Steel (2013)  2013-06-13  12062124       NaN     1\n",
       "25748           Stuart Little (1999)  2000-01-26    272059       NaN     6\n",
       "25751           Stuart Little (1999)  2000-02-01    221984       NaN     3\n",
       "25752           Stuart Little (1999)  2000-02-02    204462       NaN     3"
      ]
     },
     "execution_count": 11,
     "metadata": {},
     "output_type": "execute_result"
    }
   ],
   "source": [
    "# Inspecting the dataframe visually\n",
    "missing_theaters_rows = daily_df[daily_df['Theaters'] != daily_df['Theaters']]\n",
    "missing_theaters_rows.head()"
   ]
  },
  {
   "cell_type": "code",
   "execution_count": 12,
   "metadata": {},
   "outputs": [
    {
     "name": "stdout",
     "output_type": "stream",
     "text": [
      "<class 'pandas.core.frame.DataFrame'>\n",
      "RangeIndex: 254062 entries, 0 to 254061\n",
      "Data columns (total 5 columns):\n",
      " #   Column       Non-Null Count   Dtype  \n",
      "---  ------       --------------   -----  \n",
      " 0   Movie_Title  254062 non-null  object \n",
      " 1   Date         254062 non-null  object \n",
      " 2   Daily        254062 non-null  int64  \n",
      " 3   Theaters     254018 non-null  float64\n",
      " 4   Rank         254062 non-null  int64  \n",
      "dtypes: float64(1), int64(2), object(2)\n",
      "memory usage: 9.7+ MB\n"
     ]
    }
   ],
   "source": [
    "daily_df.info()"
   ]
  },
  {
   "cell_type": "markdown",
   "metadata": {},
   "source": [
    "There are nulls vaules of the **Theaters column** in Daily_Dataframe."
   ]
  },
  {
   "cell_type": "code",
   "execution_count": 13,
   "metadata": {},
   "outputs": [
    {
     "data": {
      "text/plain": [
       "44"
      ]
     },
     "execution_count": 13,
     "metadata": {},
     "output_type": "execute_result"
    }
   ],
   "source": [
    "# Inspecting the dataframe programmatically\n",
    "daily_df['Theaters'].isnull().sum()"
   ]
  },
  {
   "cell_type": "markdown",
   "metadata": {},
   "source": [
    "**Issue and justification:** \n",
    "- By looking at the dataset using tools like df.head(), some rows might have missing values in critical columns like Theaters. For instance, certain movies released during 2020 may have sparse or incomplete data due to the COVID-19 pandemic."
   ]
  },
  {
   "cell_type": "markdown",
   "metadata": {},
   "source": [
    "### Quality Issue 2: \n",
    "### Data Validity > Data values fall within unacceptable ranges"
   ]
  },
  {
   "cell_type": "code",
   "execution_count": 14,
   "metadata": {
    "id": "iMhHyiyLM2I3"
   },
   "outputs": [
    {
     "data": {
      "text/html": [
       "<div>\n",
       "<style scoped>\n",
       "    .dataframe tbody tr th:only-of-type {\n",
       "        vertical-align: middle;\n",
       "    }\n",
       "\n",
       "    .dataframe tbody tr th {\n",
       "        vertical-align: top;\n",
       "    }\n",
       "\n",
       "    .dataframe thead th {\n",
       "        text-align: right;\n",
       "    }\n",
       "</style>\n",
       "<table border=\"1\" class=\"dataframe\">\n",
       "  <thead>\n",
       "    <tr style=\"text-align: right;\">\n",
       "      <th></th>\n",
       "      <th>Movie_Title</th>\n",
       "      <th>Date</th>\n",
       "      <th>Daily</th>\n",
       "      <th>Theaters</th>\n",
       "      <th>Rank</th>\n",
       "    </tr>\n",
       "  </thead>\n",
       "  <tbody>\n",
       "    <tr>\n",
       "      <th>0</th>\n",
       "      <td>Jurassic World (2015)</td>\n",
       "      <td>2015-06-12</td>\n",
       "      <td>81953950</td>\n",
       "      <td>4274.0</td>\n",
       "      <td>1</td>\n",
       "    </tr>\n",
       "    <tr>\n",
       "      <th>1</th>\n",
       "      <td>Jurassic World (2015)</td>\n",
       "      <td>2015-06-13</td>\n",
       "      <td>69644830</td>\n",
       "      <td>4274.0</td>\n",
       "      <td>1</td>\n",
       "    </tr>\n",
       "    <tr>\n",
       "      <th>2</th>\n",
       "      <td>Jurassic World (2015)</td>\n",
       "      <td>2015-06-14</td>\n",
       "      <td>57207490</td>\n",
       "      <td>4274.0</td>\n",
       "      <td>1</td>\n",
       "    </tr>\n",
       "    <tr>\n",
       "      <th>3</th>\n",
       "      <td>Jurassic World (2015)</td>\n",
       "      <td>2015-06-15</td>\n",
       "      <td>25344820</td>\n",
       "      <td>4274.0</td>\n",
       "      <td>1</td>\n",
       "    </tr>\n",
       "    <tr>\n",
       "      <th>4</th>\n",
       "      <td>Jurassic World (2015)</td>\n",
       "      <td>2015-06-16</td>\n",
       "      <td>24342515</td>\n",
       "      <td>4274.0</td>\n",
       "      <td>1</td>\n",
       "    </tr>\n",
       "    <tr>\n",
       "      <th>5</th>\n",
       "      <td>Jurassic World (2015)</td>\n",
       "      <td>2015-06-17</td>\n",
       "      <td>19895470</td>\n",
       "      <td>4274.0</td>\n",
       "      <td>1</td>\n",
       "    </tr>\n",
       "    <tr>\n",
       "      <th>6</th>\n",
       "      <td>Jurassic World (2015)</td>\n",
       "      <td>2015-06-18</td>\n",
       "      <td>17822580</td>\n",
       "      <td>4274.0</td>\n",
       "      <td>1</td>\n",
       "    </tr>\n",
       "    <tr>\n",
       "      <th>7</th>\n",
       "      <td>Jurassic World (2015)</td>\n",
       "      <td>2015-06-19</td>\n",
       "      <td>29114435</td>\n",
       "      <td>4291.0</td>\n",
       "      <td>2</td>\n",
       "    </tr>\n",
       "    <tr>\n",
       "      <th>8</th>\n",
       "      <td>Jurassic World (2015)</td>\n",
       "      <td>2015-06-20</td>\n",
       "      <td>39112435</td>\n",
       "      <td>4291.0</td>\n",
       "      <td>1</td>\n",
       "    </tr>\n",
       "    <tr>\n",
       "      <th>9</th>\n",
       "      <td>Jurassic World (2015)</td>\n",
       "      <td>2015-06-21</td>\n",
       "      <td>38361540</td>\n",
       "      <td>4291.0</td>\n",
       "      <td>1</td>\n",
       "    </tr>\n",
       "  </tbody>\n",
       "</table>\n",
       "</div>"
      ],
      "text/plain": [
       "             Movie_Title        Date     Daily  Theaters  Rank\n",
       "0  Jurassic World (2015)  2015-06-12  81953950    4274.0     1\n",
       "1  Jurassic World (2015)  2015-06-13  69644830    4274.0     1\n",
       "2  Jurassic World (2015)  2015-06-14  57207490    4274.0     1\n",
       "3  Jurassic World (2015)  2015-06-15  25344820    4274.0     1\n",
       "4  Jurassic World (2015)  2015-06-16  24342515    4274.0     1\n",
       "5  Jurassic World (2015)  2015-06-17  19895470    4274.0     1\n",
       "6  Jurassic World (2015)  2015-06-18  17822580    4274.0     1\n",
       "7  Jurassic World (2015)  2015-06-19  29114435    4291.0     2\n",
       "8  Jurassic World (2015)  2015-06-20  39112435    4291.0     1\n",
       "9  Jurassic World (2015)  2015-06-21  38361540    4291.0     1"
      ]
     },
     "execution_count": 14,
     "metadata": {},
     "output_type": "execute_result"
    }
   ],
   "source": [
    "# Inspecting the dataframe visually\n",
    "# Display rows with unusually high daily earnings\n",
    "daily_df.head(10)"
   ]
  },
  {
   "cell_type": "code",
   "execution_count": 13,
   "metadata": {},
   "outputs": [
    {
     "data": {
      "text/html": [
       "<div>\n",
       "<style scoped>\n",
       "    .dataframe tbody tr th:only-of-type {\n",
       "        vertical-align: middle;\n",
       "    }\n",
       "\n",
       "    .dataframe tbody tr th {\n",
       "        vertical-align: top;\n",
       "    }\n",
       "\n",
       "    .dataframe thead th {\n",
       "        text-align: right;\n",
       "    }\n",
       "</style>\n",
       "<table border=\"1\" class=\"dataframe\">\n",
       "  <thead>\n",
       "    <tr style=\"text-align: right;\">\n",
       "      <th></th>\n",
       "      <th>Movie_Title</th>\n",
       "      <th>Date</th>\n",
       "      <th>Daily</th>\n",
       "      <th>Theaters</th>\n",
       "      <th>Rank</th>\n",
       "    </tr>\n",
       "  </thead>\n",
       "  <tbody>\n",
       "    <tr>\n",
       "      <th>254052</th>\n",
       "      <td>A Call to Spy (2020)</td>\n",
       "      <td>2020-11-12</td>\n",
       "      <td>430</td>\n",
       "      <td>27.0</td>\n",
       "      <td>21</td>\n",
       "    </tr>\n",
       "    <tr>\n",
       "      <th>254053</th>\n",
       "      <td>A Call to Spy (2020)</td>\n",
       "      <td>2020-11-13</td>\n",
       "      <td>2058</td>\n",
       "      <td>8.0</td>\n",
       "      <td>22</td>\n",
       "    </tr>\n",
       "    <tr>\n",
       "      <th>254054</th>\n",
       "      <td>A Call to Spy (2020)</td>\n",
       "      <td>2020-11-14</td>\n",
       "      <td>2059</td>\n",
       "      <td>8.0</td>\n",
       "      <td>22</td>\n",
       "    </tr>\n",
       "    <tr>\n",
       "      <th>254055</th>\n",
       "      <td>A Call to Spy (2020)</td>\n",
       "      <td>2020-11-15</td>\n",
       "      <td>549</td>\n",
       "      <td>8.0</td>\n",
       "      <td>24</td>\n",
       "    </tr>\n",
       "    <tr>\n",
       "      <th>254056</th>\n",
       "      <td>A Call to Spy (2020)</td>\n",
       "      <td>2020-11-16</td>\n",
       "      <td>380</td>\n",
       "      <td>8.0</td>\n",
       "      <td>17</td>\n",
       "    </tr>\n",
       "    <tr>\n",
       "      <th>254057</th>\n",
       "      <td>A Call to Spy (2020)</td>\n",
       "      <td>2020-11-17</td>\n",
       "      <td>623</td>\n",
       "      <td>8.0</td>\n",
       "      <td>17</td>\n",
       "    </tr>\n",
       "    <tr>\n",
       "      <th>254058</th>\n",
       "      <td>A Call to Spy (2020)</td>\n",
       "      <td>2020-11-18</td>\n",
       "      <td>568</td>\n",
       "      <td>8.0</td>\n",
       "      <td>17</td>\n",
       "    </tr>\n",
       "    <tr>\n",
       "      <th>254059</th>\n",
       "      <td>A Call to Spy (2020)</td>\n",
       "      <td>2020-11-19</td>\n",
       "      <td>597</td>\n",
       "      <td>8.0</td>\n",
       "      <td>17</td>\n",
       "    </tr>\n",
       "    <tr>\n",
       "      <th>254060</th>\n",
       "      <td>Love Story (2020)</td>\n",
       "      <td>2020-02-09</td>\n",
       "      <td>87198</td>\n",
       "      <td>650.0</td>\n",
       "      <td>20</td>\n",
       "    </tr>\n",
       "    <tr>\n",
       "      <th>254061</th>\n",
       "      <td>Love Story (2020)</td>\n",
       "      <td>2020-02-12</td>\n",
       "      <td>66306</td>\n",
       "      <td>650.0</td>\n",
       "      <td>18</td>\n",
       "    </tr>\n",
       "  </tbody>\n",
       "</table>\n",
       "</div>"
      ],
      "text/plain": [
       "                 Movie_Title        Date  Daily  Theaters  Rank\n",
       "254052  A Call to Spy (2020)  2020-11-12    430      27.0    21\n",
       "254053  A Call to Spy (2020)  2020-11-13   2058       8.0    22\n",
       "254054  A Call to Spy (2020)  2020-11-14   2059       8.0    22\n",
       "254055  A Call to Spy (2020)  2020-11-15    549       8.0    24\n",
       "254056  A Call to Spy (2020)  2020-11-16    380       8.0    17\n",
       "254057  A Call to Spy (2020)  2020-11-17    623       8.0    17\n",
       "254058  A Call to Spy (2020)  2020-11-18    568       8.0    17\n",
       "254059  A Call to Spy (2020)  2020-11-19    597       8.0    17\n",
       "254060     Love Story (2020)  2020-02-09  87198     650.0    20\n",
       "254061     Love Story (2020)  2020-02-12  66306     650.0    18"
      ]
     },
     "execution_count": 13,
     "metadata": {},
     "output_type": "execute_result"
    }
   ],
   "source": [
    "daily_df.tail(10)"
   ]
  },
  {
   "cell_type": "markdown",
   "metadata": {},
   "source": [
    "* We can visually identify that some values in the Daily column are very large and could be outliers. For example, the values in the first few rows are significantly higher than the others, and we might suspect that the highest values in the dataset could exceed the 99.9th percentile.\n"
   ]
  },
  {
   "cell_type": "code",
   "execution_count": 15,
   "metadata": {
    "id": "bnviRCUI-bb7"
   },
   "outputs": [
    {
     "name": "stdout",
     "output_type": "stream",
     "text": [
      "Outliers (values greater than the 99.9th percentile):\n"
     ]
    },
    {
     "data": {
      "text/html": [
       "<div>\n",
       "<style scoped>\n",
       "    .dataframe tbody tr th:only-of-type {\n",
       "        vertical-align: middle;\n",
       "    }\n",
       "\n",
       "    .dataframe tbody tr th {\n",
       "        vertical-align: top;\n",
       "    }\n",
       "\n",
       "    .dataframe thead th {\n",
       "        text-align: right;\n",
       "    }\n",
       "</style>\n",
       "<table border=\"1\" class=\"dataframe\">\n",
       "  <thead>\n",
       "    <tr style=\"text-align: right;\">\n",
       "      <th></th>\n",
       "      <th>Movie_Title</th>\n",
       "      <th>Date</th>\n",
       "      <th>Daily</th>\n",
       "      <th>Theaters</th>\n",
       "      <th>Rank</th>\n",
       "    </tr>\n",
       "  </thead>\n",
       "  <tbody>\n",
       "    <tr>\n",
       "      <th>0</th>\n",
       "      <td>Jurassic World (2015)</td>\n",
       "      <td>2015-06-12</td>\n",
       "      <td>81953950</td>\n",
       "      <td>4274.0</td>\n",
       "      <td>1</td>\n",
       "    </tr>\n",
       "    <tr>\n",
       "      <th>1</th>\n",
       "      <td>Jurassic World (2015)</td>\n",
       "      <td>2015-06-13</td>\n",
       "      <td>69644830</td>\n",
       "      <td>4274.0</td>\n",
       "      <td>1</td>\n",
       "    </tr>\n",
       "    <tr>\n",
       "      <th>2</th>\n",
       "      <td>Jurassic World (2015)</td>\n",
       "      <td>2015-06-14</td>\n",
       "      <td>57207490</td>\n",
       "      <td>4274.0</td>\n",
       "      <td>1</td>\n",
       "    </tr>\n",
       "    <tr>\n",
       "      <th>8</th>\n",
       "      <td>Jurassic World (2015)</td>\n",
       "      <td>2015-06-20</td>\n",
       "      <td>39112435</td>\n",
       "      <td>4291.0</td>\n",
       "      <td>1</td>\n",
       "    </tr>\n",
       "    <tr>\n",
       "      <th>9</th>\n",
       "      <td>Jurassic World (2015)</td>\n",
       "      <td>2015-06-21</td>\n",
       "      <td>38361540</td>\n",
       "      <td>4291.0</td>\n",
       "      <td>1</td>\n",
       "    </tr>\n",
       "    <tr>\n",
       "      <th>...</th>\n",
       "      <td>...</td>\n",
       "      <td>...</td>\n",
       "      <td>...</td>\n",
       "      <td>...</td>\n",
       "      <td>...</td>\n",
       "    </tr>\n",
       "    <tr>\n",
       "      <th>199548</th>\n",
       "      <td>Doctor Strange (2016)</td>\n",
       "      <td>2016-11-04</td>\n",
       "      <td>32585335</td>\n",
       "      <td>3882.0</td>\n",
       "      <td>1</td>\n",
       "    </tr>\n",
       "    <tr>\n",
       "      <th>212005</th>\n",
       "      <td>Justice League (2017)</td>\n",
       "      <td>2017-11-17</td>\n",
       "      <td>38471202</td>\n",
       "      <td>4051.0</td>\n",
       "      <td>1</td>\n",
       "    </tr>\n",
       "    <tr>\n",
       "      <th>212006</th>\n",
       "      <td>Justice League (2017)</td>\n",
       "      <td>2017-11-18</td>\n",
       "      <td>32680117</td>\n",
       "      <td>4051.0</td>\n",
       "      <td>1</td>\n",
       "    </tr>\n",
       "    <tr>\n",
       "      <th>224105</th>\n",
       "      <td>Venom (2018)</td>\n",
       "      <td>2018-10-05</td>\n",
       "      <td>32503530</td>\n",
       "      <td>4250.0</td>\n",
       "      <td>1</td>\n",
       "    </tr>\n",
       "    <tr>\n",
       "      <th>225232</th>\n",
       "      <td>Halloween (2018)</td>\n",
       "      <td>2018-10-19</td>\n",
       "      <td>33083030</td>\n",
       "      <td>3928.0</td>\n",
       "      <td>1</td>\n",
       "    </tr>\n",
       "  </tbody>\n",
       "</table>\n",
       "<p>255 rows × 5 columns</p>\n",
       "</div>"
      ],
      "text/plain": [
       "                  Movie_Title        Date     Daily  Theaters  Rank\n",
       "0       Jurassic World (2015)  2015-06-12  81953950    4274.0     1\n",
       "1       Jurassic World (2015)  2015-06-13  69644830    4274.0     1\n",
       "2       Jurassic World (2015)  2015-06-14  57207490    4274.0     1\n",
       "8       Jurassic World (2015)  2015-06-20  39112435    4291.0     1\n",
       "9       Jurassic World (2015)  2015-06-21  38361540    4291.0     1\n",
       "...                       ...         ...       ...       ...   ...\n",
       "199548  Doctor Strange (2016)  2016-11-04  32585335    3882.0     1\n",
       "212005  Justice League (2017)  2017-11-17  38471202    4051.0     1\n",
       "212006  Justice League (2017)  2017-11-18  32680117    4051.0     1\n",
       "224105           Venom (2018)  2018-10-05  32503530    4250.0     1\n",
       "225232       Halloween (2018)  2018-10-19  33083030    3928.0     1\n",
       "\n",
       "[255 rows x 5 columns]"
      ]
     },
     "execution_count": 15,
     "metadata": {},
     "output_type": "execute_result"
    }
   ],
   "source": [
    "# Inspecting the dataframe programmatically\n",
    "# Calculate the 99.9th percentile of the 'Daily' column\n",
    "percentile_999 = daily_df['Daily'].quantile(0.999)\n",
    "\n",
    "# Filter the rows where 'Daily' is greater than the 99.9th percentile\n",
    "high_outliers = daily_df[daily_df['Daily'] > percentile_999]\n",
    "\n",
    "# Display the rows with 'Daily' values greater than the 99.9th percentile\n",
    "print(\"Outliers (values greater than the 99.9th percentile):\")\n",
    "high_outliers "
   ]
  },
  {
   "cell_type": "code",
   "execution_count": 16,
   "metadata": {},
   "outputs": [
    {
     "name": "stdout",
     "output_type": "stream",
     "text": [
      "Outliers (Rows below the 0.1st percentile (Threshold: 42.0)):\n"
     ]
    },
    {
     "data": {
      "text/html": [
       "<div>\n",
       "<style scoped>\n",
       "    .dataframe tbody tr th:only-of-type {\n",
       "        vertical-align: middle;\n",
       "    }\n",
       "\n",
       "    .dataframe tbody tr th {\n",
       "        vertical-align: top;\n",
       "    }\n",
       "\n",
       "    .dataframe thead th {\n",
       "        text-align: right;\n",
       "    }\n",
       "</style>\n",
       "<table border=\"1\" class=\"dataframe\">\n",
       "  <thead>\n",
       "    <tr style=\"text-align: right;\">\n",
       "      <th></th>\n",
       "      <th>Movie_Title</th>\n",
       "      <th>Date</th>\n",
       "      <th>Daily</th>\n",
       "      <th>Theaters</th>\n",
       "      <th>Rank</th>\n",
       "    </tr>\n",
       "  </thead>\n",
       "  <tbody>\n",
       "    <tr>\n",
       "      <th>1633</th>\n",
       "      <td>Gladiator (2000)</td>\n",
       "      <td>2001-05-07</td>\n",
       "      <td>38</td>\n",
       "      <td>2.0</td>\n",
       "      <td>18</td>\n",
       "    </tr>\n",
       "    <tr>\n",
       "      <th>1634</th>\n",
       "      <td>Gladiator (2000)</td>\n",
       "      <td>2001-05-08</td>\n",
       "      <td>26</td>\n",
       "      <td>2.0</td>\n",
       "      <td>18</td>\n",
       "    </tr>\n",
       "    <tr>\n",
       "      <th>3814</th>\n",
       "      <td>Harry Potter and the Chamber of Secrets (2002)</td>\n",
       "      <td>2003-05-04</td>\n",
       "      <td>18</td>\n",
       "      <td>1.0</td>\n",
       "      <td>87</td>\n",
       "    </tr>\n",
       "    <tr>\n",
       "      <th>66210</th>\n",
       "      <td>Cinderella Man (2005)</td>\n",
       "      <td>2005-11-03</td>\n",
       "      <td>25</td>\n",
       "      <td>1.0</td>\n",
       "      <td>44</td>\n",
       "    </tr>\n",
       "    <tr>\n",
       "      <th>66214</th>\n",
       "      <td>Cinderella Man (2005)</td>\n",
       "      <td>2005-11-07</td>\n",
       "      <td>31</td>\n",
       "      <td>2.0</td>\n",
       "      <td>43</td>\n",
       "    </tr>\n",
       "    <tr>\n",
       "      <th>...</th>\n",
       "      <td>...</td>\n",
       "      <td>...</td>\n",
       "      <td>...</td>\n",
       "      <td>...</td>\n",
       "      <td>...</td>\n",
       "    </tr>\n",
       "    <tr>\n",
       "      <th>253391</th>\n",
       "      <td>Tulsa (2020)</td>\n",
       "      <td>2020-10-29</td>\n",
       "      <td>22</td>\n",
       "      <td>10.0</td>\n",
       "      <td>32</td>\n",
       "    </tr>\n",
       "    <tr>\n",
       "      <th>253395</th>\n",
       "      <td>Tulsa (2020)</td>\n",
       "      <td>2020-11-02</td>\n",
       "      <td>28</td>\n",
       "      <td>9.0</td>\n",
       "      <td>27</td>\n",
       "    </tr>\n",
       "    <tr>\n",
       "      <th>253398</th>\n",
       "      <td>Tulsa (2020)</td>\n",
       "      <td>2020-11-05</td>\n",
       "      <td>20</td>\n",
       "      <td>9.0</td>\n",
       "      <td>30</td>\n",
       "    </tr>\n",
       "    <tr>\n",
       "      <th>253405</th>\n",
       "      <td>Tulsa (2020)</td>\n",
       "      <td>2020-11-12</td>\n",
       "      <td>38</td>\n",
       "      <td>9.0</td>\n",
       "      <td>30</td>\n",
       "    </tr>\n",
       "    <tr>\n",
       "      <th>253819</th>\n",
       "      <td>Tokyo Godfathers (2020)</td>\n",
       "      <td>2020-03-18</td>\n",
       "      <td>13</td>\n",
       "      <td>4.0</td>\n",
       "      <td>35</td>\n",
       "    </tr>\n",
       "  </tbody>\n",
       "</table>\n",
       "<p>252 rows × 5 columns</p>\n",
       "</div>"
      ],
      "text/plain": [
       "                                           Movie_Title        Date  Daily  \\\n",
       "1633                                  Gladiator (2000)  2001-05-07     38   \n",
       "1634                                  Gladiator (2000)  2001-05-08     26   \n",
       "3814    Harry Potter and the Chamber of Secrets (2002)  2003-05-04     18   \n",
       "66210                            Cinderella Man (2005)  2005-11-03     25   \n",
       "66214                            Cinderella Man (2005)  2005-11-07     31   \n",
       "...                                                ...         ...    ...   \n",
       "253391                                    Tulsa (2020)  2020-10-29     22   \n",
       "253395                                    Tulsa (2020)  2020-11-02     28   \n",
       "253398                                    Tulsa (2020)  2020-11-05     20   \n",
       "253405                                    Tulsa (2020)  2020-11-12     38   \n",
       "253819                         Tokyo Godfathers (2020)  2020-03-18     13   \n",
       "\n",
       "        Theaters  Rank  \n",
       "1633         2.0    18  \n",
       "1634         2.0    18  \n",
       "3814         1.0    87  \n",
       "66210        1.0    44  \n",
       "66214        2.0    43  \n",
       "...          ...   ...  \n",
       "253391      10.0    32  \n",
       "253395       9.0    27  \n",
       "253398       9.0    30  \n",
       "253405       9.0    30  \n",
       "253819       4.0    35  \n",
       "\n",
       "[252 rows x 5 columns]"
      ]
     },
     "execution_count": 16,
     "metadata": {},
     "output_type": "execute_result"
    }
   ],
   "source": [
    "# Calculate the 0.1st percentile\n",
    "percentile_001 = daily_df['Daily'].quantile(0.001)\n",
    "\n",
    "# Filter rows below the 0.1st percentile\n",
    "low_outliers = daily_df[daily_df['Daily'] < percentile_001]\n",
    "\n",
    "# Display the low earners\n",
    "print(f\"Outliers (Rows below the 0.1st percentile (Threshold: {percentile_001})):\")\n",
    "low_outliers "
   ]
  },
  {
   "cell_type": "code",
   "execution_count": 17,
   "metadata": {},
   "outputs": [
    {
     "data": {
      "image/png": "[encoded data removed]",
      "text/plain": [
       "<Figure size 1000x600 with 1 Axes>"
      ]
     },
     "metadata": {},
     "output_type": "display_data"
    }
   ],
   "source": [
    "# Avoid log(0) errors\n",
    "daily_df['Log_Daily'] = np.log1p(daily_df['Daily'])\n",
    "\n",
    "# Plot the boxplot for log transformed values\n",
    "plt.figure(figsize=(10, 6))\n",
    "sns.boxplot(x=daily_df['Log_Daily'], orient='h', color='lightcoral')\n",
    "plt.title('Boxplot of Log-Transformed Daily Earnings', fontsize=16)\n",
    "plt.xlabel('Log(Daily Earnings)', fontsize=12)\n",
    "plt.show()"
   ]
  },
  {
   "cell_type": "markdown",
   "metadata": {},
   "source": [
    "**Issue and justification:**\n",
    "Unusually high or low values ​​in a daily column, such as outliers above the 99.9th percentile or below the 0.1st percentile, may skew statistical analyses and summaries. These anomalies may result from data entry errors, special events (e.g., re-releases), or incorrectly reported values ​​during scraping."
   ]
  },
  {
   "cell_type": "markdown",
   "metadata": {
    "id": "lXhGiYyiwwKN"
   },
   "source": [
    "### Tidiness Issue 1: \n",
    "### Multiple Variables Stored in a Single Column"
   ]
  },
  {
   "cell_type": "code",
   "execution_count": 67,
   "metadata": {
    "id": "fleC5rORI0Xl"
   },
   "outputs": [
    {
     "data": {
      "text/html": [
       "<div>\n",
       "<style scoped>\n",
       "    .dataframe tbody tr th:only-of-type {\n",
       "        vertical-align: middle;\n",
       "    }\n",
       "\n",
       "    .dataframe tbody tr th {\n",
       "        vertical-align: top;\n",
       "    }\n",
       "\n",
       "    .dataframe thead th {\n",
       "        text-align: right;\n",
       "    }\n",
       "</style>\n",
       "<table border=\"1\" class=\"dataframe\">\n",
       "  <thead>\n",
       "    <tr style=\"text-align: right;\">\n",
       "      <th></th>\n",
       "      <th>Movie_Title</th>\n",
       "      <th>Domestic</th>\n",
       "      <th>International</th>\n",
       "      <th>Budget</th>\n",
       "      <th>Distributor</th>\n",
       "      <th>MPAA-Rating</th>\n",
       "      <th>Runtime</th>\n",
       "      <th>Genres</th>\n",
       "      <th>Release_Year</th>\n",
       "    </tr>\n",
       "  </thead>\n",
       "  <tbody>\n",
       "    <tr>\n",
       "      <th>0</th>\n",
       "      <td>Jurassic World</td>\n",
       "      <td>652270625</td>\n",
       "      <td>1018130012</td>\n",
       "      <td>150000000.0</td>\n",
       "      <td>Universal Pictures</td>\n",
       "      <td>PG-13</td>\n",
       "      <td>124</td>\n",
       "      <td>Action</td>\n",
       "      <td>2015</td>\n",
       "    </tr>\n",
       "    <tr>\n",
       "      <th>1</th>\n",
       "      <td>Jurassic World</td>\n",
       "      <td>652270625</td>\n",
       "      <td>1018130012</td>\n",
       "      <td>150000000.0</td>\n",
       "      <td>Universal Pictures</td>\n",
       "      <td>PG-13</td>\n",
       "      <td>124</td>\n",
       "      <td>Adventure</td>\n",
       "      <td>2015</td>\n",
       "    </tr>\n",
       "    <tr>\n",
       "      <th>2</th>\n",
       "      <td>Jurassic World</td>\n",
       "      <td>652270625</td>\n",
       "      <td>1018130012</td>\n",
       "      <td>150000000.0</td>\n",
       "      <td>Universal Pictures</td>\n",
       "      <td>PG-13</td>\n",
       "      <td>124</td>\n",
       "      <td>Sci-Fi</td>\n",
       "      <td>2015</td>\n",
       "    </tr>\n",
       "    <tr>\n",
       "      <th>3</th>\n",
       "      <td>Star Wars: Episode VII - The Force Awakens</td>\n",
       "      <td>936662225</td>\n",
       "      <td>1131561399</td>\n",
       "      <td>245000000.0</td>\n",
       "      <td>Walt Disney Studios Motion Pictures</td>\n",
       "      <td>PG-13</td>\n",
       "      <td>138</td>\n",
       "      <td>Action</td>\n",
       "      <td>2015</td>\n",
       "    </tr>\n",
       "    <tr>\n",
       "      <th>4</th>\n",
       "      <td>Star Wars: Episode VII - The Force Awakens</td>\n",
       "      <td>936662225</td>\n",
       "      <td>1131561399</td>\n",
       "      <td>245000000.0</td>\n",
       "      <td>Walt Disney Studios Motion Pictures</td>\n",
       "      <td>PG-13</td>\n",
       "      <td>138</td>\n",
       "      <td>Adventure</td>\n",
       "      <td>2015</td>\n",
       "    </tr>\n",
       "  </tbody>\n",
       "</table>\n",
       "</div>"
      ],
      "text/plain": [
       "                                  Movie_Title   Domestic  International  \\\n",
       "0                              Jurassic World  652270625     1018130012   \n",
       "1                              Jurassic World  652270625     1018130012   \n",
       "2                              Jurassic World  652270625     1018130012   \n",
       "3  Star Wars: Episode VII - The Force Awakens  936662225     1131561399   \n",
       "4  Star Wars: Episode VII - The Force Awakens  936662225     1131561399   \n",
       "\n",
       "        Budget                          Distributor MPAA-Rating  Runtime  \\\n",
       "0  150000000.0                   Universal Pictures       PG-13      124   \n",
       "1  150000000.0                   Universal Pictures       PG-13      124   \n",
       "2  150000000.0                   Universal Pictures       PG-13      124   \n",
       "3  245000000.0  Walt Disney Studios Motion Pictures       PG-13      138   \n",
       "4  245000000.0  Walt Disney Studios Motion Pictures       PG-13      138   \n",
       "\n",
       "      Genres Release_Year  \n",
       "0     Action         2015  \n",
       "1  Adventure         2015  \n",
       "2     Sci-Fi         2015  \n",
       "3     Action         2015  \n",
       "4  Adventure         2015  "
      ]
     },
     "execution_count": 67,
     "metadata": {},
     "output_type": "execute_result"
    }
   ],
   "source": [
    "# Inspecting the dataframe visually\n",
    "attributes_df.head()"
   ]
  },
  {
   "cell_type": "markdown",
   "metadata": {},
   "source": [
    "\n",
    "- The `Genres` column stores multiple genres in a single cell, separated by delimiters like `;`."
   ]
  },
  {
   "cell_type": "code",
   "execution_count": 11,
   "metadata": {
    "id": "BTuQw7Rbsio4"
   },
   "outputs": [
    {
     "data": {
      "text/plain": [
       "0                             Action;Adventure;Sci-Fi\n",
       "1                             Action;Adventure;Sci-Fi\n",
       "2                             Action;Adventure;Sci-Fi\n",
       "3     Adventure;Animation;Comedy;Drama;Family;Fantasy\n",
       "4                           Action;Adventure;Thriller\n",
       "5                          Action;Biography;Drama;War\n",
       "6            Adventure;Animation;Comedy;Family;Sci-Fi\n",
       "7                    Action;Adventure;Sci-Fi;Thriller\n",
       "8                              Adventure;Drama;Sci-Fi\n",
       "9                        Drama;Family;Fantasy;Romance\n",
       "10                              Comedy;Family;Fantasy\n",
       "11                          Action;Adventure;Thriller\n",
       "12                             Action;Adventure;Drama\n",
       "13                    Action;Adventure;Drama;Thriller\n",
       "14                                     Comedy;Romance\n",
       "15                            Action;Adventure;Sci-Fi\n",
       "16                                             Comedy\n",
       "17                      Drama;Horror;Mystery;Thriller\n",
       "18                                    Biography;Drama\n",
       "19                           Adventure;Family;Fantasy\n",
       "Name: Genres, dtype: object"
      ]
     },
     "execution_count": 11,
     "metadata": {},
     "output_type": "execute_result"
    }
   ],
   "source": [
    "# Inspecting the dataframe programmatically\n",
    "attributes_df['Genres'].head(20)"
   ]
  },
  {
   "cell_type": "code",
   "execution_count": 12,
   "metadata": {},
   "outputs": [
    {
     "data": {
      "text/plain": [
       "array(['Action;Adventure;Sci-Fi',\n",
       "       'Adventure;Animation;Comedy;Drama;Family;Fantasy',\n",
       "       'Action;Adventure;Thriller', 'Action;Biography;Drama;War',\n",
       "       'Adventure;Animation;Comedy;Family;Sci-Fi',\n",
       "       'Action;Adventure;Sci-Fi;Thriller', 'Adventure;Drama;Sci-Fi',\n",
       "       'Drama;Family;Fantasy;Romance', 'Comedy;Family;Fantasy',\n",
       "       'Action;Adventure;Drama', 'Action;Adventure;Drama;Thriller',\n",
       "       'Comedy;Romance', 'Comedy', 'Drama;Horror;Mystery;Thriller',\n",
       "       'Biography;Drama', 'Adventure;Family;Fantasy',\n",
       "       'Adventure;Animation;Comedy;Family;Fantasy',\n",
       "       'Action;Comedy;Crime;Thriller',\n",
       "       'Action;Adventure;Fantasy;Thriller',\n",
       "       'Action;Drama;History;Romance;War', 'Crime;Drama;Thriller',\n",
       "       'Action;Adventure;Drama;Fantasy',\n",
       "       'Action;Adventure;Fantasy;Sci-Fi',\n",
       "       'Adventure;Family;Fantasy;Mystery',\n",
       "       'Drama;Mystery;Sci-Fi;Thriller', 'Comedy;Drama;Romance',\n",
       "       'Action;Adventure;Comedy;Crime',\n",
       "       'Action;Adventure;Comedy;Mystery;Sci-Fi',\n",
       "       'Adventure;Animation;Comedy;Family', 'Action;Adventure;Fantasy',\n",
       "       'Action;Sci-Fi', 'Comedy;Fantasy', 'Action;Sci-Fi;Thriller',\n",
       "       'Adventure;Comedy;Family;Fantasy;Romance', 'Comedy;Crime;Musical',\n",
       "       'Adventure;Animation;Comedy;Family;Fantasy;Romance', 'Drama',\n",
       "       'Action;Adventure;Animation;Family', 'Action;Mystery;Thriller',\n",
       "       'Adventure;Animation;Comedy;Family;Fantasy;Musical',\n",
       "       'Action;Adventure;Mystery;Thriller', 'Adventure;Sci-Fi;Thriller',\n",
       "       'Adventure;Comedy;Family;Fantasy;Musical', 'Action;Adventure',\n",
       "       'Animation;Comedy;Family;Sport', 'Mystery;Thriller',\n",
       "       'Adventure;Animation;Comedy;Family;Music;Musical;Romance',\n",
       "       'Comedy;Sport', 'Action;Adventure;Family;Fantasy;Mystery',\n",
       "       'Action;Drama', 'Action;Adventure;Drama;Sci-Fi;Thriller',\n",
       "       'Adventure;Animation;Comedy', 'Action;Crime;Drama;Thriller',\n",
       "       'Action;Drama;Fantasy',\n",
       "       'Adventure;Animation;Family;Romance;Sci-Fi',\n",
       "       'Action;Adventure;Animation;Comedy;Family',\n",
       "       'Drama;Fantasy;Romance', 'Adventure;Drama;Fantasy;Romance',\n",
       "       'Action;Adventure;Animation;Comedy;Family;Sci-Fi;Thriller',\n",
       "       'Biography;Drama;Sport',\n",
       "       'Action;Adventure;Drama;Fantasy;Romance;Thriller',\n",
       "       'Animation;Comedy;Crime;Family;Fantasy',\n",
       "       'Action;Adventure;Animation;Family;Fantasy',\n",
       "       'Adventure;Drama;Fantasy;Mystery',\n",
       "       'Adventure;Drama;Fantasy;Romance;Thriller',\n",
       "       'Action;Adventure;Crime;Thriller',\n",
       "       'Adventure;Animation;Comedy;Family;Sci-Fi;Sport',\n",
       "       'Action;Drama;Sci-Fi;Thriller', 'Adventure;Fantasy',\n",
       "       'Action;Adventure;Mystery;Sci-Fi;Thriller',\n",
       "       'Adventure;Animation;Comedy;Crime;Family;Fantasy;Sci-Fi',\n",
       "       'Drama;Sci-Fi;Thriller', 'Action;Adventure;Comedy;Sci-Fi',\n",
       "       'Action;Adventure;Animation;Comedy;Family;Fantasy',\n",
       "       'Action;Adventure;Family;Fantasy;Romance',\n",
       "       'Action;Adventure;Drama;Sci-Fi',\n",
       "       'Action;Adventure;Animation;Family;Sci-Fi',\n",
       "       'Adventure;Drama;Family;Fantasy',\n",
       "       'Adventure;Animation;Comedy;Crime;Family;Mystery',\n",
       "       'Family;Fantasy;Musical;Romance',\n",
       "       'Action;Adventure;Fantasy;Sci-Fi;War', 'Horror',\n",
       "       'Action;Adventure;Comedy;Fantasy;Sci-Fi',\n",
       "       'Adventure;Animation;Comedy;Family;Fantasy;Sci-Fi',\n",
       "       'Action;Adventure;Animation;Comedy;Family;Sci-Fi',\n",
       "       'Animation;Comedy;Family;Fantasy',\n",
       "       'Action;Adventure;Comedy;Fantasy',\n",
       "       'Adventure;Animation;Drama;Family;Musical',\n",
       "       'Adventure;Family;Fantasy;Musical;Romance', 'Drama;Fantasy;Horror',\n",
       "       'Drama;Thriller;War', 'Adventure;Comedy;Family;Fantasy',\n",
       "       'Drama;Romance', 'Drama;Horror;Mystery;Sci-Fi;Thriller',\n",
       "       'Adventure;Drama;Family', 'Comedy;Romance;Sci-Fi',\n",
       "       'Action;Adventure;Comedy;Crime;Thriller', 'Action;Comedy;Crime',\n",
       "       'Action;Drama;History;War', 'Comedy;Fantasy;Romance',\n",
       "       'Action;Crime;Thriller', 'Adventure;Drama;Romance',\n",
       "       'Horror;Mystery', 'Action;War', 'Action;Horror;Sci-Fi;Thriller',\n",
       "       'Crime;Drama;Fantasy;Mystery',\n",
       "       'Adventure;Animation;Comedy;Family;Romance',\n",
       "       'Comedy;Romance;Sport', 'Adventure;Comedy;Family', 'Comedy;Crime',\n",
       "       'Action;Adventure;Comedy;Western', 'Adventure;Comedy;Sci-Fi',\n",
       "       'Adventure;Animation;Comedy;Family;Musical;Romance',\n",
       "       'Animation;Comedy;Drama;Family;Musical',\n",
       "       'Action;Comedy;Crime;Romance', 'Drama;Sport',\n",
       "       'Comedy;Drama;Fantasy;Romance', 'Comedy;Documentary',\n",
       "       'Comedy;Drama', 'Comedy;Family;Romance;Sci-Fi',\n",
       "       'Action;Mystery;Sci-Fi;Thriller', 'Comedy;Drama;Family',\n",
       "       'Drama;Fantasy;Sport', 'Crime;Drama;Mystery;Thriller',\n",
       "       'Drama;Romance;Sport', 'Comedy;Drama;Music;Romance',\n",
       "       'Action;Drama;Thriller', 'Comedy;Crime;Drama;Romance',\n",
       "       'Comedy;Drama;Sci-Fi', 'Action;Adventure;Crime;Drama;Thriller',\n",
       "       'Drama;History;Romance', 'Drama;Thriller',\n",
       "       'Drama;Mystery;Thriller', 'Adventure;Comedy;Drama;Family;Fantasy',\n",
       "       'Biography;Comedy;Drama', 'Drama;Mystery;Romance;Thriller',\n",
       "       'Action;Adventure;Fantasy;Romance', 'Fantasy;Horror;Mystery',\n",
       "       'Biography;Crime;Drama;Romance', 'Drama;Romance;Western',\n",
       "       'Comedy;Drama;Fantasy', 'Biography;Drama;Thriller',\n",
       "       'Biography;Comedy;Drama;Romance', 'Crime;Thriller',\n",
       "       'Action;Adventure;Comedy;Family;Sci-Fi', 'Comedy;Family;Romance',\n",
       "       'Horror;Mystery;Thriller', 'Action;Comedy;Family;Fantasy',\n",
       "       'Drama;Music;Romance',\n",
       "       'Action;Adventure;Animation;Family;Fantasy;Sci-Fi', 'Drama;Sci-Fi',\n",
       "       'Fantasy;Mystery;Romance;Sci-Fi;Thriller',\n",
       "       'Adventure;Comedy;Crime;Romance', 'Comedy;Sci-Fi',\n",
       "       'Drama;Musical;Romance', 'Action;Adventure;Comedy',\n",
       "       'Action;Adventure;Romance', 'Biography;Crime;Drama',\n",
       "       'Drama;History;War', 'Drama;Mystery;Sci-Fi',\n",
       "       'Action;Drama;Thriller;War', 'Comedy;Crime;Romance',\n",
       "       'Animation;Comedy;Family', 'Drama;History;Thriller',\n",
       "       'Action;Drama;Sport',\n",
       "       'Action;Adventure;Animation;Fantasy;Romance;Sci-Fi',\n",
       "       'Adventure;Comedy;Fantasy', 'Crime;Drama;Romance;Thriller',\n",
       "       'Adventure;Comedy;Drama', 'Drama;Music;Romance;War',\n",
       "       'Comedy;Music', 'Comedy;Drama;Thriller', 'Comedy;Mystery;Romance',\n",
       "       'Comedy;Crime;Mystery;Romance', 'Action;Horror;Thriller',\n",
       "       'Action;Adventure;Comedy;Musical',\n",
       "       'Adventure;Comedy;Family;Fantasy;Mystery',\n",
       "       'Adventure;Animation;Comedy;Drama;Family;Fantasy;Sci-Fi',\n",
       "       'Action;Crime;Mystery;Sci-Fi;Thriller', 'Drama;Music',\n",
       "       'Action;Fantasy;Horror;Sci-Fi;Thriller',\n",
       "       'Adventure;Comedy;Family;Sport', 'Drama;Family;Sport',\n",
       "       'Adventure;Animation;Drama;Family;Western',\n",
       "       'Action;Comedy;Documentary', 'Drama;Romance;Thriller',\n",
       "       'Comedy;Family;Fantasy;Sport', 'Action;Comedy;Sci-Fi',\n",
       "       'Adventure;Animation;Family;Fantasy', 'Action;Drama;War',\n",
       "       'Comedy;Drama;Mystery', 'Action;Horror;Sci-Fi', 'Action;Comedy',\n",
       "       'Action;Adventure;Comedy;Sci-Fi;Thriller', 'Family;Sci-Fi',\n",
       "       'Drama;History;Thriller;War', 'Crime;Drama',\n",
       "       'Adventure;Animation;Family;Sci-Fi',\n",
       "       'Action;Adventure;Comedy;Thriller', 'Crime;Mystery;Thriller',\n",
       "       'Horror;Thriller', 'Drama;Fantasy;Mystery;Romance;Thriller',\n",
       "       'Action;Comedy;Thriller', 'Action;Adventure;Comedy;Family',\n",
       "       'Action;Crime;Drama;Mystery;Thriller',\n",
       "       'Adventure;Animation;Comedy;Drama;Family;Musical',\n",
       "       'Animation;Family;Fantasy;Musical;Romance',\n",
       "       'Animation;Comedy;Musical', 'Biography;Drama;Romance', 'Drama;War',\n",
       "       'Action;Sci-Fi;Sport', 'Comedy;Crime;Mystery',\n",
       "       'Action;Adventure;Drama;Romance;War',\n",
       "       'Comedy;Drama;Romance;Thriller',\n",
       "       'Action;Adventure;Comedy;Horror;Sci-Fi;Thriller',\n",
       "       'Comedy;Family;Music;Musical', 'Crime;Documentary;Drama',\n",
       "       'Drama;Mystery;Romance;Sci-Fi', 'Comedy;Drama;Romance;Sport',\n",
       "       'Crime;Horror;Thriller', 'Action;Crime;Drama;Sport',\n",
       "       'Action;Adventure;Drama;Horror;Thriller', 'Drama;Mystery;Romance',\n",
       "       'Comedy;Crime;Drama;Thriller', 'Comedy;Crime;Thriller', nan,\n",
       "       'Action;Crime;Drama', 'Adventure;Animation;Family;Fantasy;Mystery',\n",
       "       'Adventure;Biography;Drama', 'Drama;History;Sport',\n",
       "       'Comedy;Family;Fantasy;Music;Romance', 'Comedy;Family',\n",
       "       'Action;Crime', 'Action;Horror',\n",
       "       'Action;Adventure;Drama;History;War', 'Crime;Horror',\n",
       "       'Adventure;Comedy;Drama;Family;Mystery',\n",
       "       'Comedy;Family;Fantasy;Horror;Mystery',\n",
       "       'Action;Adventure;Comedy;Crime;Family',\n",
       "       'Action;Drama;Romance;Western', 'Comedy;Crime;Drama',\n",
       "       'Action;Thriller', 'Action;Fantasy;Thriller',\n",
       "       'Action;Adventure;Comedy;Crime;Family;Romance;Thriller',\n",
       "       'Adventure;Animation;Family;Musical',\n",
       "       'Drama;Horror;Sci-Fi;Thriller',\n",
       "       'Adventure;Comedy;Family;Music;Romance',\n",
       "       'Comedy;Drama;Family;Fantasy;Sci-Fi',\n",
       "       'Comedy;Drama;Family;Romance', 'Fantasy;Horror;Mystery;Thriller',\n",
       "       'Biography;Drama;Music;War', 'Action;Comedy;Crime;Drama;Thriller',\n",
       "       'Adventure;Drama;History;Romance;War',\n",
       "       'Adventure;Thriller;Western', 'Action;Comedy;Fantasy',\n",
       "       'Adventure;Animation;Comedy;Family;Musical;Mystery',\n",
       "       'Adventure;Family;Fantasy;Romance', 'Drama;Family',\n",
       "       'Action;Adventure;Animation;Comedy;Family;Mystery',\n",
       "       'Action;Adventure;Sci-Fi;War',\n",
       "       'Biography;Comedy;Crime;Drama;Romance;Thriller',\n",
       "       'Biography;Drama;History;War', 'Drama;Romance;Thriller;War',\n",
       "       'Documentary', 'Action;Adventure;Horror',\n",
       "       'Biography;Documentary;Music', 'Drama;Horror;Thriller',\n",
       "       'Biography;Drama;History', 'Comedy;Documentary;Thriller',\n",
       "       'Adventure;Comedy;Sport', 'Comedy;Crime;Drama;Mystery;Romance',\n",
       "       'Comedy;Musical;Romance', 'Adventure;Drama;Romance;War',\n",
       "       'Crime;Drama;Romance', 'Documentary;Sport',\n",
       "       'Action;Crime;Drama;Romance;Thriller', 'Comedy;Music;Romance',\n",
       "       'Drama;History', 'Documentary;Drama;War',\n",
       "       'Adventure;Comedy;Family;Fantasy;Horror;Mystery;Sci-Fi',\n",
       "       'Action;Adventure;Horror;Sci-Fi;Thriller', 'Biography;Drama;Music',\n",
       "       'Action;Adventure;Biography;Drama;Sport;Western',\n",
       "       'Biography;Drama;History;Sport', 'Action;Fantasy;Horror',\n",
       "       'Comedy;Horror;Sci-Fi;Thriller', 'Adventure;Comedy;Mystery',\n",
       "       'Action;Adventure;History',\n",
       "       'Adventure;Animation;Comedy;Family;Music;Western',\n",
       "       'Action;Adventure;Fantasy;Horror;Sci-Fi', 'Action;Crime;Fantasy',\n",
       "       'Drama;Romance;Sci-Fi', 'Biography;Crime;Drama;Thriller',\n",
       "       'Action;Biography;Drama;History;War',\n",
       "       'Action;Adventure;Horror;Thriller',\n",
       "       'Adventure;Drama;Horror;Thriller', 'Comedy;Family;Music;Romance',\n",
       "       'Action;Comedy;Crime;Drama', 'Comedy;Family;Fantasy;Romance',\n",
       "       'Action;Adventure;Comedy;Family;Western',\n",
       "       'Action;Adventure;Comedy;Family;Romance;Sci-Fi',\n",
       "       'Biography;Drama;Family', 'Drama;History;War;Western',\n",
       "       'Action;Adventure;Animation;Family;Fantasy;Thriller',\n",
       "       'Adventure;Comedy', 'Comedy;Fantasy;Horror;Thriller',\n",
       "       'Action;Adventure;Drama;Romance;Thriller',\n",
       "       'Drama;Fantasy;Horror;Sci-Fi;Thriller',\n",
       "       'Comedy;Crime;Family;Romance', 'Comedy;Horror',\n",
       "       'Biography;Drama;Music;Musical', 'Drama;Musical;Romance;Thriller',\n",
       "       'Action;Adventure;Comedy;Drama;Romance',\n",
       "       'Family;Music;Musical;Romance', 'Comedy;Family;Sci-Fi',\n",
       "       'Crime;Horror;Mystery;Thriller', 'Comedy;Crime;Music',\n",
       "       'Adventure;Animation;Comedy;Family;Fantasy;Musical;Sci-Fi',\n",
       "       'Animation;Comedy;Drama', 'Biography;Drama;Romance;Sport',\n",
       "       'Comedy;Horror;Mystery;Thriller', 'Drama;Fantasy;Mystery;Thriller',\n",
       "       'Comedy;Drama;Fantasy;Mystery',\n",
       "       'Biography;Documentary;History;War',\n",
       "       'Action;Adventure;Drama;Romance', 'Drama;Family;Musical;Romance',\n",
       "       'Comedy;Crime;Sport', 'Action;Comedy;Drama;Family',\n",
       "       'Biography;Drama;Music;Romance', 'Documentary;Family',\n",
       "       'Action;Fantasy;Horror;Mystery',\n",
       "       'Adventure;Comedy;Family;Fantasy;Romance;Sport',\n",
       "       'Adventure;Comedy;Family;Sci-Fi',\n",
       "       'Biography;Drama;History;Romance;Sport', 'Thriller',\n",
       "       'Adventure;Animation;Comedy;Family;Fantasy;Horror;Mystery;Sci-Fi',\n",
       "       'Animation;Drama;Family;Fantasy;Musical;Romance',\n",
       "       'Comedy;Family;Romance;Sport',\n",
       "       'Adventure;Comedy;Drama;Family;Sport',\n",
       "       'Action;Adventure;Romance;Thriller;Western',\n",
       "       'Action;Adventure;Comedy;Family;Fantasy;Sci-Fi',\n",
       "       'Action;Adventure;Comedy;Fantasy;Horror;Mystery;Thriller',\n",
       "       'Biography;Crime;Drama;Music',\n",
       "       'Action;Adventure;Crime;Sci-Fi;Thriller', 'Drama;Horror;Mystery',\n",
       "       'Action;Adventure;Crime;Fantasy', 'Comedy;Drama;Family;Sport',\n",
       "       'Crime;Drama;Sport', 'Crime;Drama;Music', 'Horror;Sci-Fi;Thriller',\n",
       "       'Adventure;Animation;Comedy;Family;War',\n",
       "       'Animation;Comedy;Family;Fantasy;Musical;Mystery',\n",
       "       'Comedy;Family;Sport', 'Adventure;Drama;Family;Fantasy;Music',\n",
       "       'Comedy;Drama;Mystery;Romance', 'Action;Drama;History;Thriller',\n",
       "       'Biography;Crime;Drama;History',\n",
       "       'Comedy;Crime;Drama;Music;Romance',\n",
       "       'Action;Biography;Crime;Drama;Thriller', 'Drama;Family;Romance',\n",
       "       'Documentary;Family;Music', 'Drama;Mystery',\n",
       "       'Comedy;Drama;Musical;Romance', 'Comedy;Crime;Drama;Family',\n",
       "       'Drama;Fantasy;Mystery;Sci-Fi;Thriller',\n",
       "       'Drama;Mystery;Romance;War', 'Comedy;Crime;Mystery;Thriller',\n",
       "       'Biography;Documentary;History', 'Documentary;Music',\n",
       "       'Biography;Documentary', 'Action;Drama;Romance;Sport',\n",
       "       'Adventure;Comedy;Crime;Family;Mystery',\n",
       "       'Animation;Comedy;Family;Fantasy;Mystery',\n",
       "       'Adventure;Animation;Comedy;Drama;Family',\n",
       "       'Crime;Drama;Music;Romance', 'Action;Crime;Sci-Fi;Thriller',\n",
       "       'Action;Adventure;Family;Fantasy',\n",
       "       'Action;Adventure;Fantasy;Horror;Romance;Thriller',\n",
       "       'Animation;Comedy;Crime;Family;Musical;Mystery',\n",
       "       'Biography;Crime;Drama;Sport', 'Adventure;Comedy;Romance',\n",
       "       'Drama;Music;Musical',\n",
       "       'Adventure;Drama;Family;Fantasy;History;Romance',\n",
       "       'Adventure;Drama;Thriller', 'Comedy;Drama;Sport',\n",
       "       'Adventure;Horror;Thriller', 'Action;Biography;Drama;Sport',\n",
       "       'Documentary;News',\n",
       "       'Action;Adventure;Fantasy;Horror;Mystery;Thriller',\n",
       "       'Fantasy;Horror;Mystery;Sci-Fi;Thriller', 'Documentary;Short',\n",
       "       'Comedy;Drama;Music;Musical;Romance;Western',\n",
       "       'Action;Comedy;Drama;Thriller',\n",
       "       'Drama;History;Horror;Mystery;Thriller',\n",
       "       'Biography;Drama;History;Romance',\n",
       "       'Adventure;Comedy;Family;Romance', 'Action;Drama;Romance;War',\n",
       "       'Adventure;Animation;Comedy;Family;Mystery;Romance;Sport',\n",
       "       'Biography;Crime;Drama;History;Mystery;Romance;Thriller',\n",
       "       'Crime;Drama;Musical;Romance', 'Adventure;Biography;Drama;History',\n",
       "       'Comedy;Documentary;Music', 'Comedy;Drama;Music;War',\n",
       "       'Adventure;Comedy;Drama;Romance', 'Comedy;Crime;Fantasy;Mystery',\n",
       "       'Animation;Family;Fantasy;Musical',\n",
       "       'Adventure;Comedy;Music;Musical',\n",
       "       'Crime;Drama;Horror;Mystery;Thriller', 'Comedy;Horror;Sci-Fi',\n",
       "       'Action;Sport', 'Animation;Crime;Drama;Mystery;Sci-Fi;Thriller',\n",
       "       'Adventure;Crime;Drama;Mystery;Western',\n",
       "       'Adventure;Animation;Comedy;Family;Fantasy;Music',\n",
       "       'Comedy;Family;Fantasy;Musical;Romance', 'Drama;Family;Fantasy',\n",
       "       'Action;Adventure;Animation;Fantasy',\n",
       "       'Action;Adventure;Animation;Comedy;Family;Fantasy;Sci-Fi',\n",
       "       'Action;Crime;Drama;Western', 'Biography;Comedy;Drama;History',\n",
       "       'Drama;Fantasy;War', 'Adventure;Drama;Sci-Fi;Thriller',\n",
       "       'Biography;Crime;Drama;History;Thriller', 'Horror;Sci-Fi',\n",
       "       'Drama;Horror;Musical;Thriller',\n",
       "       'Action;Adventure;Fantasy;Horror;Sci-Fi;Thriller',\n",
       "       'Action;Adventure;Crime;Drama;Horror;Thriller;War',\n",
       "       'Comedy;Crime;Family;Mystery;Romance;Thriller',\n",
       "       'Documentary;Drama', 'Drama;Fantasy;History;Music;Musical;Romance',\n",
       "       'Action;Comedy;Mystery;Thriller',\n",
       "       'Action;Adventure;Drama;Family;Fantasy;Sci-Fi',\n",
       "       'Crime;Drama;Fantasy;Mystery;Thriller', 'Sci-Fi;Thriller',\n",
       "       'Crime;Drama;Mystery;Thriller;War',\n",
       "       'Biography;Drama;History;Thriller', 'Action;Comedy;Family',\n",
       "       'Action;Drama;Fantasy;Horror;Thriller',\n",
       "       'Action;Adventure;Crime;Horror;War',\n",
       "       'Action;Adventure;Drama;Thriller;War', 'Comedy;Family;Music',\n",
       "       'Biography;Drama;History;Thriller;War',\n",
       "       'Adventure;Drama;Family;Fantasy;Thriller', 'Action',\n",
       "       'Crime;Drama;Mystery', 'Action;Adventure;War',\n",
       "       'Action;Adventure;Animation;Comedy;Fantasy;Sci-Fi',\n",
       "       'Action;Biography;Drama;Thriller;War', 'Action;Comedy;War',\n",
       "       'Action;Adventure;Fantasy;Horror;War',\n",
       "       'Action;Adventure;Family;Fantasy;Sci-Fi',\n",
       "       'Action;Adventure;Drama;Fantasy;History',\n",
       "       'Adventure;Comedy;Drama;Family;Romance',\n",
       "       'Comedy;Drama;Family;Music;Musical;Romance',\n",
       "       'Crime;Drama;History;Thriller',\n",
       "       'Action;Adventure;Drama;Family;Fantasy;Thriller',\n",
       "       'Action;Adventure;Comedy;Romance;Thriller',\n",
       "       'Adventure;Comedy;Family;Fantasy;Romance;Sci-Fi',\n",
       "       'Adventure;Comedy;Drama;Family',\n",
       "       'Adventure;Comedy;Drama;Romance;War;Western',\n",
       "       'Action;Adventure;Comedy;Drama;Family;Sci-Fi;Sport',\n",
       "       'Biography;Crime;Drama;History;Mystery;Thriller',\n",
       "       'Crime;Drama;Horror;Mystery;Sci-Fi;Thriller',\n",
       "       'Action;Crime;Drama;Romance;Western',\n",
       "       'Adventure;Fantasy;Horror;Mystery;Sci-Fi;Thriller',\n",
       "       'Action;Crime;Fantasy;Thriller', 'Comedy;Documentary;War',\n",
       "       'Adventure;Drama', 'Adventure;Animation;Family',\n",
       "       'Comedy;Drama;Music', 'Adventure;Comedy;Family;Romance;Sci-Fi',\n",
       "       'Biography;Comedy;Drama;Family;Sport',\n",
       "       'Adventure;Family;Fantasy;Sci-Fi',\n",
       "       'Crime;Drama;Mystery;Romance;Thriller',\n",
       "       'Action;Adventure;Fantasy;Thriller;War',\n",
       "       'Animation;Biography;Drama;History;War',\n",
       "       'Action;Comedy;Crime;Family', 'Animation;Drama;Family;Fantasy',\n",
       "       'Adventure;Drama;War', 'Action;Drama;Mystery;Sci-Fi',\n",
       "       'Action;Adventure;Mystery', 'Comedy;Drama;Family;Music;Romance',\n",
       "       'Adventure;Animation;Comedy;Family;Fantasy;Musical;Romance',\n",
       "       'Adventure;Comedy;Fantasy;Horror;Sci-Fi',\n",
       "       'Animation;Drama;Family;Fantasy;Thriller',\n",
       "       'Documentary;Drama;Music',\n",
       "       'Action;Adventure;Family;Fantasy;Sci-Fi;Thriller',\n",
       "       'Comedy;Drama;Fantasy;Romance;Sport',\n",
       "       'Drama;Fantasy;Romance;Sci-Fi', 'Comedy;Crime;Romance;Thriller',\n",
       "       'Action;Adventure;Comedy;Crime;Family;Mystery',\n",
       "       'Biography;Comedy;Crime;Drama', 'Comedy;War',\n",
       "       'Action;Adventure;Animation;Sci-Fi',\n",
       "       'Action;Drama;History;Thriller;War',\n",
       "       'Drama;Fantasy;Horror;Mystery;Thriller', 'Action;Comedy;Music',\n",
       "       'Horror;Mystery;Sci-Fi;Thriller',\n",
       "       'Adventure;Comedy;Family;Fantasy;Sci-Fi',\n",
       "       'Action;Crime;Drama;Romance;Sport',\n",
       "       'Adventure;Comedy;Family;Fantasy;Horror;Romance;Sci-Fi',\n",
       "       'Action;Animation;Comedy;Family;Sci-Fi',\n",
       "       'Adventure;Animation;Comedy;Crime;Drama;Family',\n",
       "       'Comedy;Drama;Family;Fantasy', 'Crime;Documentary;History',\n",
       "       'Adventure;Biography;Drama;Romance',\n",
       "       'Action;Horror;Mystery;Sci-Fi;Thriller',\n",
       "       'Action;Crime;Mystery;Thriller',\n",
       "       'Action;Adventure;Fantasy;Sci-Fi;Thriller',\n",
       "       'Biography;Comedy;Drama;History;Music',\n",
       "       'Action;Adventure;Comedy;Crime;Drama;Romance',\n",
       "       'Adventure;Crime;Drama;Thriller',\n",
       "       'Adventure;Biography;Comedy;Drama;Romance',\n",
       "       'Action;Drama;Family;Sport', 'Action;Adventure;Drama;History',\n",
       "       'Drama;Mystery;Romance;Thriller;War', 'Drama;Western',\n",
       "       'Action;Comedy;Romance', 'Animation;Comedy;Drama;Family',\n",
       "       'Crime;Drama;Horror;Mystery', 'Drama;Fantasy;Horror;Thriller',\n",
       "       'Action;Adventure;Horror;Sci-Fi',\n",
       "       'Biography;Drama;Family;History;Sport',\n",
       "       'Action;Adventure;Animation;Family;Fantasy;Mystery;Thriller;War',\n",
       "       'Action;Comedy;Romance;Thriller', 'Crime;Horror;Mystery',\n",
       "       'Drama;Fantasy;Thriller',\n",
       "       'Action;Adventure;Animation;Comedy;Family;Fantasy;Thriller',\n",
       "       'Drama;Music;Musical;Romance', 'Comedy;Family;Horror',\n",
       "       'Action;Comedy;Fantasy;Romance', 'Comedy;Family;Fantasy;War',\n",
       "       'Comedy;Fantasy;Horror;Romance',\n",
       "       'Action;Adventure;Crime;Mystery;Thriller', 'Drama;Horror;Sci-Fi',\n",
       "       'Action;Drama;Fantasy;Thriller;Western', 'Action;Fantasy;Western',\n",
       "       'Documentary;Drama;Mystery;Thriller',\n",
       "       'Adventure;Animation;Comedy;Crime;Family;Musical',\n",
       "       'Mystery;Sci-Fi;Thriller',\n",
       "       'Adventure;Animation;Comedy;Family;Western',\n",
       "       'Action;Sci-Fi;Thriller;Western', 'Action;Drama;Sci-Fi;Sport',\n",
       "       'Action;Drama;Fantasy;Romance', 'Adventure;Comedy;Family;Musical',\n",
       "       'Romance;Sci-Fi;Thriller',\n",
       "       'Adventure;Animation;Comedy;Family;Musical',\n",
       "       'Action;Drama;Mystery;Sci-Fi;Thriller',\n",
       "       'Drama;Family;Fantasy;Mystery', 'Biography;Drama;Family;Sport',\n",
       "       'Action;Adventure;Animation;Family;Mystery',\n",
       "       'Action;Adventure;Animation;Comedy;Crime;Family;Romance;Sci-Fi;Thriller',\n",
       "       'Fantasy;Horror;Mystery;Romance;Thriller',\n",
       "       'Drama;Fantasy;Horror;Romance;Thriller',\n",
       "       'Adventure;Fantasy;Horror;Thriller',\n",
       "       'Adventure;Comedy;Fantasy;Romance',\n",
       "       'Action;Adventure;Fantasy;History;Romance;Thriller',\n",
       "       'Horror;Mystery;Sci-Fi', 'Adventure;Documentary',\n",
       "       'Adventure;Documentary;Short', 'Drama;Fantasy',\n",
       "       'Crime;Drama;History', 'Animation;Comedy;Crime;Family;Mystery',\n",
       "       'Documentary;History', 'Action;Comedy;Drama;Family;Romance',\n",
       "       'Adventure;Drama;History',\n",
       "       'Adventure;Animation;Comedy;Drama;Family;Fantasy;Musical',\n",
       "       'Animation;Comedy;Family;Fantasy;Horror',\n",
       "       'Adventure;Mystery;Sci-Fi', 'Adventure;Drama;Fantasy',\n",
       "       'Comedy;Fantasy;Horror', 'Drama;History;Musical;Romance;War',\n",
       "       'Action;Adventure;Thriller;War', 'Action;Fantasy;Horror;Sci-Fi',\n",
       "       'Adventure;Animation;Comedy;Family;Fantasy;Mystery',\n",
       "       'Action;Comedy;Sport', 'Animation;Comedy;Family;Horror;Sci-Fi',\n",
       "       'Adventure;Drama;Mystery', 'Biography;Drama;Family;Romance',\n",
       "       'Action;Adventure;Fantasy;Horror;Mystery', 'Action;Crime;Sci-Fi',\n",
       "       'Fantasy', 'Adventure;Comedy;Drama;Romance;Sci-Fi',\n",
       "       'Comedy;Western',\n",
       "       'Adventure;Animation;Family;Fantasy;Mystery;Thriller',\n",
       "       'Adventure;Biography;Crime;Drama;Thriller', 'Action;Drama;Sci-Fi',\n",
       "       'Action;Adventure;Western', 'Fantasy;Horror;Thriller',\n",
       "       'Adventure;Family;Fantasy;Thriller', 'Comedy;Horror;Romance',\n",
       "       'Crime;Drama;Horror;Thriller', 'Drama;Horror',\n",
       "       'Action;Adventure;Comedy;Crime;Fantasy;Sci-Fi',\n",
       "       'Adventure;Comedy;Drama;Fantasy;Romance',\n",
       "       'Action;Adventure;Fantasy;Horror;Mystery;Romance',\n",
       "       'Action;Adventure;Drama;Romance;Sci-Fi;Thriller',\n",
       "       'Adventure;Animation;Comedy;Documentary;Family',\n",
       "       'Comedy;Drama;Fantasy;Romance;Sci-Fi',\n",
       "       'Drama;Family;Music;Musical', 'Action;Biography;Drama;Romance;War',\n",
       "       'Adventure;Family;Fantasy;Musical',\n",
       "       'Action;Adventure;Comedy;Romance', 'Music',\n",
       "       'Biography;Comedy;Drama;Music;Romance',\n",
       "       'Action;Drama;Mystery;Thriller', 'Action;Adventure;Mystery;Sci-Fi',\n",
       "       'Comedy;Drama;History;War',\n",
       "       'Adventure;Animation;Comedy;Crime;Family',\n",
       "       'Adventure;Comedy;Drama;Fantasy;Musical',\n",
       "       'Action;Biography;Drama;Sport;War', 'Adventure;Comedy;Crime',\n",
       "       'Comedy;Drama;Family;Musical', 'Action;Drama;Fantasy;Horror;War',\n",
       "       'Adventure;Comedy;Crime;Family;Musical;Mystery',\n",
       "       'Drama;Fantasy;Music;Romance;Sci-Fi',\n",
       "       'Drama;Romance;Sci-Fi;Thriller', 'Adventure;Family;Sci-Fi',\n",
       "       'Action;Biography;Crime;Fantasy;Horror;Mystery;Thriller',\n",
       "       'Action;Adventure;Drama;Fantasy;History;Romance',\n",
       "       'Biography;Drama;Thriller;War', 'Action;Fantasy;Sci-Fi',\n",
       "       'Action;Fantasy;Sci-Fi;Thriller', 'Drama;Fantasy;Mystery;Romance',\n",
       "       'Comedy;Drama;Musical;Sci-Fi',\n",
       "       'Adventure;Animation;Family;Fantasy;Musical',\n",
       "       'Adventure;Biography;Documentary;Family;Short',\n",
       "       'Action;Comedy;Drama;Fantasy;Horror;Mystery;Thriller',\n",
       "       'Animation;Biography;Drama;History;Romance;War',\n",
       "       'Biography;Drama;Romance;War', 'Action;Comedy;Fantasy;Sci-Fi',\n",
       "       'Action;Adventure;Comedy;Musical;Romance;Thriller',\n",
       "       'Biography;Drama;History;Music',\n",
       "       'Action;Adventure;Family;Fantasy;Mystery;Sci-Fi',\n",
       "       'Adventure;Comedy;Family;Fantasy;Horror',\n",
       "       'Action;Adventure;Biography;Drama;Thriller',\n",
       "       'Adventure;Drama;Family;War', 'Comedy;Drama;Fantasy;Horror',\n",
       "       'Adventure;Comedy;Drama;Mystery;Romance',\n",
       "       'Action;Crime;Drama;Sci-Fi;Thriller',\n",
       "       'Adventure;Biography;Comedy;Drama',\n",
       "       'Action;Adventure;Biography;Drama;History',\n",
       "       'Adventure;Comedy;Crime;Drama',\n",
       "       'Action;Adventure;Crime;Sport;Thriller',\n",
       "       'Crime;Drama;Mystery;Thriller;Western', 'Comedy;Mystery;Sci-Fi',\n",
       "       'Action;Adventure;Biography;Drama',\n",
       "       'Action;Adventure;Comedy;Drama',\n",
       "       'Action;Adventure;Comedy;Crime;Mystery', 'Adventure;Horror',\n",
       "       'Mystery;Romance;Thriller', 'Biography;Comedy;Drama;Music',\n",
       "       'Biography;Crime;Drama;History;Mystery',\n",
       "       'Action;Comedy;Drama;Romance', 'Action;Drama;Musical;Romance',\n",
       "       'Action;Comedy;Horror', 'Comedy;Music;War',\n",
       "       'Action;Biography;Crime;Drama;History;Thriller',\n",
       "       'Comedy;Crime;Drama;Musical', 'Biography;Drama;Sport;Thriller',\n",
       "       'Action;Adventure;Drama;History;Western',\n",
       "       'Animation;Comedy;Family;Musical',\n",
       "       'Action;Adventure;Drama;Fantasy;Romance',\n",
       "       'Adventure;Animation;Comedy;Fantasy',\n",
       "       'Action;Adventure;Comedy;Drama;Family;Fantasy',\n",
       "       'Comedy;Drama;Horror', 'Action;Drama;Horror;Sci-Fi;Thriller',\n",
       "       'Action;Adventure;Comedy;Crime;Mystery;Thriller',\n",
       "       'Action;Drama;Horror;Thriller', 'Biography;Comedy;Crime;Drama;War',\n",
       "       'Action;Drama;Romance;Thriller;War',\n",
       "       'Action;Drama;History;Mystery',\n",
       "       'Action;Adventure;Crime;Drama;Mystery;Thriller',\n",
       "       'Comedy;Drama;Music;Musical;Romance', 'Comedy;Drama;Music;Mystery',\n",
       "       'Action;Adventure;Comedy;Mystery;Romance',\n",
       "       'Action;Crime;Drama;Thriller;Western',\n",
       "       'Biography;Comedy;Drama;War',\n",
       "       'Action;Biography;Drama;History;War;Western',\n",
       "       'Biography;Comedy;Crime',\n",
       "       'Biography;Comedy;Drama;Family;History;Sport',\n",
       "       'Action;Comedy;Fantasy;Horror;Romance',\n",
       "       'Comedy;Drama;Romance;Sci-Fi;Thriller',\n",
       "       'Action;Animation;Crime;Drama;Thriller',\n",
       "       'Animation;Comedy;Drama;Romance',\n",
       "       'Adventure;Animation;Drama;Family;Fantasy;Music;Mystery',\n",
       "       'Action;Animation;Comedy;Family',\n",
       "       'Adventure;Animation;Comedy;Family;Sport',\n",
       "       'Action;Crime;Drama;Music;Thriller',\n",
       "       'Action;Adventure;Fantasy;Sci-Fi;Western',\n",
       "       'Biography;Drama;Musical', 'Action;Crime;Drama;History;Thriller',\n",
       "       'Drama;Horror;Mystery;Romance',\n",
       "       'Adventure;Animation;Comedy;Family;Music',\n",
       "       'Action;Biography;Drama', 'Drama;Fantasy;Sci-Fi',\n",
       "       'Adventure;Drama;Fantasy;Romance;Sci-Fi;Thriller',\n",
       "       'Biography;Drama;War', 'Biography;Crime;Drama;Mystery;Thriller',\n",
       "       'Biography;Comedy;Drama;History;Sport', 'Drama;Fantasy;Mystery',\n",
       "       'Drama;Fantasy;Horror;Mystery;Sci-Fi;Thriller',\n",
       "       'Adventure;Crime;Drama', 'Animation;Biography;Crime;Drama;Mystery',\n",
       "       'Animation;Drama;Fantasy;Romance', 'Crime;Drama;Sci-Fi',\n",
       "       'Comedy;Drama;Romance;War', 'Comedy;Drama;Fantasy;Sci-Fi', 'Sport',\n",
       "       'Musical', 'Adventure;Animation;Comedy;Family;Fantasy;Horror',\n",
       "       'Comedy;Family;Fantasy;Musical', 'Biography;Drama;Family;Music',\n",
       "       'Comedy;Family;Fantasy;Mystery;Sci-Fi',\n",
       "       'Adventure;Animation;Comedy;Family;Fantasy;Mystery;Romance',\n",
       "       'Adventure;Drama;Horror;Mystery;Sci-Fi;Thriller',\n",
       "       'Adventure;Animation;Comedy;Drama;Fantasy;Sci-Fi',\n",
       "       'Action;Adventure;Biography;Drama;Romance;Thriller',\n",
       "       'Action;Adventure;Animation;Comedy;Family;Fantasy;Musical;Sci-Fi',\n",
       "       'Biography;Comedy;Drama;Sport',\n",
       "       'Biography;Drama;Horror;Mystery;Thriller',\n",
       "       'Action;Adventure;Horror;Sci-Fi;War',\n",
       "       'Action;Comedy;Crime;Fantasy;Mystery;Thriller',\n",
       "       'Adventure;Comedy;Crime;Family', 'Comedy;Fantasy;Sci-Fi',\n",
       "       'Biography;Documentary;Drama;History;Mystery',\n",
       "       'Drama;History;Romance;War', 'Adventure;Documentary;Sport',\n",
       "       'Biography;Comedy;Crime;Drama;Romance',\n",
       "       'Biography;Comedy;Drama;Fantasy;Romance',\n",
       "       'Adventure;Animation;Comedy;Family;Fantasy;Sport',\n",
       "       'Comedy;Drama;History', 'Documentary;History;War',\n",
       "       'Action;Adventure;Drama;Family;Sci-Fi;Thriller',\n",
       "       'Action;Adventure;Animation;Fantasy;Sci-Fi',\n",
       "       'Adventure;Animation;Family;History;War', 'Adventure;Sci-Fi',\n",
       "       'Crime;Drama;Western',\n",
       "       'Action;Adventure;Animation;Drama;Family;Fantasy',\n",
       "       'Action;Adventure;Comedy;Family;Mystery;Sci-Fi',\n",
       "       'Comedy;Crime;Drama;Mystery;Thriller',\n",
       "       'Action;Adventure;Animation;Comedy;Family;Fantasy;Musical',\n",
       "       'Comedy;Fantasy;Music;Romance', 'Adventure;Horror;Mystery',\n",
       "       'Adventure;Comedy;Family;Mystery',\n",
       "       'Action;Adventure;Horror;Mystery;Sci-Fi;Thriller',\n",
       "       'Adventure;Drama;Mystery;Sci-Fi;Thriller',\n",
       "       'Comedy;Fantasy;Musical;Romance', 'Action;Biography;Drama;History',\n",
       "       'Action;Comedy;Horror;Mystery;Thriller',\n",
       "       'Comedy;Horror;Mystery;Sci-Fi;Thriller', 'Comedy;Drama;War',\n",
       "       'Comedy;Drama;Family;Fantasy;Musical',\n",
       "       'Drama;Horror;Mystery;Sci-Fi', 'Drama;Fantasy;Horror;Mystery',\n",
       "       'Comedy;Fantasy;Horror;Sci-Fi', 'Drama;History;Music;Romance',\n",
       "       'Action;Comedy;Drama',\n",
       "       'Action;Comedy;Crime;Drama;Mystery;Thriller',\n",
       "       'Action;Adventure;Animation;Comedy;Drama;Fantasy;Sci-Fi;Thriller',\n",
       "       'Action;Horror;Mystery;Sci-Fi', 'Fantasy;Horror',\n",
       "       'Comedy;Horror;Thriller', 'Action;Adventure;Drama;Western',\n",
       "       'Adventure;Comedy;Music;Sci-Fi',\n",
       "       'Action;Crime;Drama;Horror;Thriller',\n",
       "       'Action;Comedy;Musical;Thriller', 'Adventure;Fantasy;Horror',\n",
       "       'Animation;Comedy;Drama;Family;Fantasy;Romance',\n",
       "       'Adventure;Animation;Comedy;Drama',\n",
       "       'Action;Animation;Drama;Fantasy',\n",
       "       'Adventure;Horror;Mystery;Thriller',\n",
       "       'Biography;Crime;Drama;Thriller;War'], dtype=object)"
      ]
     },
     "execution_count": 12,
     "metadata": {},
     "output_type": "execute_result"
    }
   ],
   "source": [
    "attributes_df['Genres'].unique()"
   ]
  },
  {
   "cell_type": "markdown",
   "metadata": {},
   "source": [
    "**Issue and justification:**\n",
    "- In the `Genres` column stores multiple genres in a single cell, separated by delimiters like `;`. This violates the rule that each variable should form its own column.\n",
    "- Multiple Variables Stored in a Single Column Issue ensures that each genre forms a distinct variable, improving the dataset's usability for analysis."
   ]
  },
  {
   "cell_type": "markdown",
   "metadata": {
    "id": "4ffMoRGSwzYj"
   },
   "source": [
    "### Tidiness Issue 2: \n",
    "### Data Tidiness > Each variable forms a column"
   ]
  },
  {
   "cell_type": "code",
   "execution_count": 13,
   "metadata": {},
   "outputs": [
    {
     "data": {
      "text/plain": [
       "0         Jurassic World (2015)\n",
       "1         Jurassic World (2015)\n",
       "2         Jurassic World (2015)\n",
       "3         Jurassic World (2015)\n",
       "4         Jurassic World (2015)\n",
       "                  ...          \n",
       "254057     A Call to Spy (2020)\n",
       "254058     A Call to Spy (2020)\n",
       "254059     A Call to Spy (2020)\n",
       "254060        Love Story (2020)\n",
       "254061        Love Story (2020)\n",
       "Name: Movie_Title, Length: 254062, dtype: object"
      ]
     },
     "execution_count": 13,
     "metadata": {},
     "output_type": "execute_result"
    }
   ],
   "source": [
    "# Inspecting the Dataframe Visually\n",
    "# We see each of datasets\n",
    "daily_df['Movie_Title']"
   ]
  },
  {
   "cell_type": "code",
   "execution_count": 14,
   "metadata": {},
   "outputs": [
    {
     "data": {
      "text/plain": [
       "0                                   Jurassic World (2015)\n",
       "1       Star Wars: Episode VII - The Force Awakens (2015)\n",
       "2                          Avengers: Age of Ultron (2015)\n",
       "3                                       Inside Out (2015)\n",
       "4                                        Furious 7 (2015)\n",
       "                              ...                        \n",
       "3395                       The Wolf of Snow Hollow (2020)\n",
       "3396                                     Come Away (2020)\n",
       "3397                                     No Escape (2020)\n",
       "3398                                 A Call to Spy (2020)\n",
       "3399                                    Love Story (2020)\n",
       "Name: Title, Length: 3400, dtype: object"
      ]
     },
     "execution_count": 14,
     "metadata": {},
     "output_type": "execute_result"
    }
   ],
   "source": [
    "attributes_df['Title']"
   ]
  },
  {
   "cell_type": "code",
   "execution_count": 21,
   "metadata": {
    "id": "c8JK4DoXxtFA"
   },
   "outputs": [
    {
     "name": "stdout",
     "output_type": "stream",
     "text": [
      "\n",
      "Check if Movie_Title contains both Name and Year (as separate variables):\n"
     ]
    },
    {
     "data": {
      "text/html": [
       "<div>\n",
       "<style scoped>\n",
       "    .dataframe tbody tr th:only-of-type {\n",
       "        vertical-align: middle;\n",
       "    }\n",
       "\n",
       "    .dataframe tbody tr th {\n",
       "        vertical-align: top;\n",
       "    }\n",
       "\n",
       "    .dataframe thead th {\n",
       "        text-align: right;\n",
       "    }\n",
       "</style>\n",
       "<table border=\"1\" class=\"dataframe\">\n",
       "  <thead>\n",
       "    <tr style=\"text-align: right;\">\n",
       "      <th></th>\n",
       "      <th>Movie_Title</th>\n",
       "      <th>Title_Contains_Variables</th>\n",
       "    </tr>\n",
       "  </thead>\n",
       "  <tbody>\n",
       "    <tr>\n",
       "      <th>0</th>\n",
       "      <td>Jurassic World (2015)</td>\n",
       "      <td>True</td>\n",
       "    </tr>\n",
       "    <tr>\n",
       "      <th>1</th>\n",
       "      <td>Jurassic World (2015)</td>\n",
       "      <td>True</td>\n",
       "    </tr>\n",
       "    <tr>\n",
       "      <th>2</th>\n",
       "      <td>Jurassic World (2015)</td>\n",
       "      <td>True</td>\n",
       "    </tr>\n",
       "    <tr>\n",
       "      <th>3</th>\n",
       "      <td>Jurassic World (2015)</td>\n",
       "      <td>True</td>\n",
       "    </tr>\n",
       "    <tr>\n",
       "      <th>4</th>\n",
       "      <td>Jurassic World (2015)</td>\n",
       "      <td>True</td>\n",
       "    </tr>\n",
       "    <tr>\n",
       "      <th>...</th>\n",
       "      <td>...</td>\n",
       "      <td>...</td>\n",
       "    </tr>\n",
       "    <tr>\n",
       "      <th>254057</th>\n",
       "      <td>A Call to Spy (2020)</td>\n",
       "      <td>True</td>\n",
       "    </tr>\n",
       "    <tr>\n",
       "      <th>254058</th>\n",
       "      <td>A Call to Spy (2020)</td>\n",
       "      <td>True</td>\n",
       "    </tr>\n",
       "    <tr>\n",
       "      <th>254059</th>\n",
       "      <td>A Call to Spy (2020)</td>\n",
       "      <td>True</td>\n",
       "    </tr>\n",
       "    <tr>\n",
       "      <th>254060</th>\n",
       "      <td>Love Story (2020)</td>\n",
       "      <td>True</td>\n",
       "    </tr>\n",
       "    <tr>\n",
       "      <th>254061</th>\n",
       "      <td>Love Story (2020)</td>\n",
       "      <td>True</td>\n",
       "    </tr>\n",
       "  </tbody>\n",
       "</table>\n",
       "<p>254062 rows × 2 columns</p>\n",
       "</div>"
      ],
      "text/plain": [
       "                  Movie_Title  Title_Contains_Variables\n",
       "0       Jurassic World (2015)                      True\n",
       "1       Jurassic World (2015)                      True\n",
       "2       Jurassic World (2015)                      True\n",
       "3       Jurassic World (2015)                      True\n",
       "4       Jurassic World (2015)                      True\n",
       "...                       ...                       ...\n",
       "254057   A Call to Spy (2020)                      True\n",
       "254058   A Call to Spy (2020)                      True\n",
       "254059   A Call to Spy (2020)                      True\n",
       "254060      Love Story (2020)                      True\n",
       "254061      Love Story (2020)                      True\n",
       "\n",
       "[254062 rows x 2 columns]"
      ]
     },
     "execution_count": 21,
     "metadata": {},
     "output_type": "execute_result"
    }
   ],
   "source": [
    "# Inspecting the dataframe programmatically\n",
    "# Check for distinct variables in the Movie_Title column\n",
    "daily_df['Title_Contains_Variables'] = daily_df['Movie_Title'].str.contains(r'\\(.*\\)')  # Check if there are year parentheses\n",
    "print(\"\\nCheck if Movie_Title contains both Name and Year (as separate variables):\")\n",
    "daily_df[['Movie_Title', 'Title_Contains_Variables']]"
   ]
  },
  {
   "cell_type": "code",
   "execution_count": 22,
   "metadata": {},
   "outputs": [
    {
     "data": {
      "text/plain": [
       "array([ True])"
      ]
     },
     "execution_count": 22,
     "metadata": {},
     "output_type": "execute_result"
    }
   ],
   "source": [
    "daily_df['Title_Contains_Variables'].unique()"
   ]
  },
  {
   "cell_type": "code",
   "execution_count": 18,
   "metadata": {},
   "outputs": [
    {
     "name": "stdout",
     "output_type": "stream",
     "text": [
      "\n",
      "Check if Title contains both Name and Year (as separate variables):\n"
     ]
    },
    {
     "data": {
      "text/html": [
       "<div>\n",
       "<style scoped>\n",
       "    .dataframe tbody tr th:only-of-type {\n",
       "        vertical-align: middle;\n",
       "    }\n",
       "\n",
       "    .dataframe tbody tr th {\n",
       "        vertical-align: top;\n",
       "    }\n",
       "\n",
       "    .dataframe thead th {\n",
       "        text-align: right;\n",
       "    }\n",
       "</style>\n",
       "<table border=\"1\" class=\"dataframe\">\n",
       "  <thead>\n",
       "    <tr style=\"text-align: right;\">\n",
       "      <th></th>\n",
       "      <th>Title</th>\n",
       "      <th>Title_Contains_Variables</th>\n",
       "    </tr>\n",
       "  </thead>\n",
       "  <tbody>\n",
       "    <tr>\n",
       "      <th>0</th>\n",
       "      <td>Jurassic World (2015)</td>\n",
       "      <td>True</td>\n",
       "    </tr>\n",
       "    <tr>\n",
       "      <th>1</th>\n",
       "      <td>Star Wars: Episode VII - The Force Awakens (2015)</td>\n",
       "      <td>True</td>\n",
       "    </tr>\n",
       "    <tr>\n",
       "      <th>2</th>\n",
       "      <td>Avengers: Age of Ultron (2015)</td>\n",
       "      <td>True</td>\n",
       "    </tr>\n",
       "    <tr>\n",
       "      <th>3</th>\n",
       "      <td>Inside Out (2015)</td>\n",
       "      <td>True</td>\n",
       "    </tr>\n",
       "    <tr>\n",
       "      <th>4</th>\n",
       "      <td>Furious 7 (2015)</td>\n",
       "      <td>True</td>\n",
       "    </tr>\n",
       "    <tr>\n",
       "      <th>...</th>\n",
       "      <td>...</td>\n",
       "      <td>...</td>\n",
       "    </tr>\n",
       "    <tr>\n",
       "      <th>3395</th>\n",
       "      <td>The Wolf of Snow Hollow (2020)</td>\n",
       "      <td>True</td>\n",
       "    </tr>\n",
       "    <tr>\n",
       "      <th>3396</th>\n",
       "      <td>Come Away (2020)</td>\n",
       "      <td>True</td>\n",
       "    </tr>\n",
       "    <tr>\n",
       "      <th>3397</th>\n",
       "      <td>No Escape (2020)</td>\n",
       "      <td>True</td>\n",
       "    </tr>\n",
       "    <tr>\n",
       "      <th>3398</th>\n",
       "      <td>A Call to Spy (2020)</td>\n",
       "      <td>True</td>\n",
       "    </tr>\n",
       "    <tr>\n",
       "      <th>3399</th>\n",
       "      <td>Love Story (2020)</td>\n",
       "      <td>True</td>\n",
       "    </tr>\n",
       "  </tbody>\n",
       "</table>\n",
       "<p>3400 rows × 2 columns</p>\n",
       "</div>"
      ],
      "text/plain": [
       "                                                  Title  \\\n",
       "0                                 Jurassic World (2015)   \n",
       "1     Star Wars: Episode VII - The Force Awakens (2015)   \n",
       "2                        Avengers: Age of Ultron (2015)   \n",
       "3                                     Inside Out (2015)   \n",
       "4                                      Furious 7 (2015)   \n",
       "...                                                 ...   \n",
       "3395                     The Wolf of Snow Hollow (2020)   \n",
       "3396                                   Come Away (2020)   \n",
       "3397                                   No Escape (2020)   \n",
       "3398                               A Call to Spy (2020)   \n",
       "3399                                  Love Story (2020)   \n",
       "\n",
       "      Title_Contains_Variables  \n",
       "0                         True  \n",
       "1                         True  \n",
       "2                         True  \n",
       "3                         True  \n",
       "4                         True  \n",
       "...                        ...  \n",
       "3395                      True  \n",
       "3396                      True  \n",
       "3397                      True  \n",
       "3398                      True  \n",
       "3399                      True  \n",
       "\n",
       "[3400 rows x 2 columns]"
      ]
     },
     "execution_count": 18,
     "metadata": {},
     "output_type": "execute_result"
    }
   ],
   "source": [
    "attributes_df['Title_Contains_Variables'] = attributes_df['Title'].str.contains(r'\\(.*\\)')  # Check if there are year parentheses\n",
    "print(\"\\nCheck if Title contains both Name and Year (as separate variables):\")\n",
    "attributes_df[['Title', 'Title_Contains_Variables']]"
   ]
  },
  {
   "cell_type": "code",
   "execution_count": 23,
   "metadata": {},
   "outputs": [
    {
     "data": {
      "text/plain": [
       "array([ True])"
      ]
     },
     "execution_count": 23,
     "metadata": {},
     "output_type": "execute_result"
    }
   ],
   "source": [
    "attributes_df['Title_Contains_Variables'].unique()"
   ]
  },
  {
   "cell_type": "markdown",
   "metadata": {},
   "source": [
    "**Issue and justification:**\n",
    "- The `name` of the movie and the `year` are separate variables.\n",
    "- Combining them in one column (`Movie_Title` in daily_df & `Title` in attributes_df) means these two variables are not in their own columns, making it harder to analyze them separately.\n",
    "- By splitting the `Movie_Title` into **Name and Year**, each variable (name and year) gets its own column, adhering to Rule 1 of data tidiness."
   ]
  },
  {
   "cell_type": "markdown",
   "metadata": {
    "id": "D6gmLnBttpCh"
   },
   "source": [
    "## 3. Clean data\n",
    "\n",
    "#### We make a copies of the two datasetsabove to ensure the raw dataframes are not impacted"
   ]
  },
  {
   "cell_type": "markdown",
   "metadata": {
    "id": "FmFhN52Yyn3l"
   },
   "source": [
    "### **Quality Issue 1: Missing Values or Data**"
   ]
  },
  {
   "cell_type": "markdown",
   "metadata": {},
   "source": [
    "Fill missing values in the `Budget` column with the median of the column."
   ]
  },
  {
   "cell_type": "code",
   "execution_count": 6,
   "metadata": {
    "id": "9UejDWrNMW4a"
   },
   "outputs": [],
   "source": [
    "# Apply the cleaning strategy\n",
    "# Cleaning the Budget column\n",
    "attributes_df['Budget'] = attributes_df['Budget'].fillna(attributes_df['Budget'].median())"
   ]
  },
  {
   "cell_type": "markdown",
   "metadata": {},
   "source": [
    "**Justification:**\n",
    "The `Budget` column is numerical, and missing values might distort the analysis. Median is chosen because it is robust to outliers compared to the mean."
   ]
  },
  {
   "cell_type": "markdown",
   "metadata": {},
   "source": [
    "Drop rows with missing values in `Distributor`."
   ]
  },
  {
   "cell_type": "code",
   "execution_count": 7,
   "metadata": {},
   "outputs": [],
   "source": [
    "# Drop Row with Missing Value in Distributor colmun\n",
    "attributes_df = attributes_df[attributes_df['Distributor'].notnull()]"
   ]
  },
  {
   "cell_type": "markdown",
   "metadata": {},
   "source": [
    "Handle Remaining Missing Values Using `Genres`.\n",
    "\n",
    "For movies with missing values in `MPAA-Rating` use the most frequent rating for their respective Genres."
   ]
  },
  {
   "cell_type": "code",
   "execution_count": 8,
   "metadata": {},
   "outputs": [
    {
     "data": {
      "text/plain": [
       "array(['PG-13', 'PG', 'R', 'G', nan, 'NC-17', 'Not Rated'], dtype=object)"
      ]
     },
     "execution_count": 8,
     "metadata": {},
     "output_type": "execute_result"
    }
   ],
   "source": [
    "# Show the unique values of 'MPAA-Rating' column \n",
    "attributes_df['MPAA-Rating'].unique()"
   ]
  },
  {
   "cell_type": "code",
   "execution_count": 9,
   "metadata": {
    "scrolled": false
   },
   "outputs": [],
   "source": [
    "# Replace missing values with 'Not Rated'\n",
    "attributes_df.loc[:, 'MPAA-Rating'] = attributes_df['MPAA-Rating'].fillna('Not Rated')"
   ]
  },
  {
   "cell_type": "markdown",
   "metadata": {},
   "source": [
    "Replacing missing `MPAA-Rating` values with `\"Not Rated\"` ensures transparency by clearly labeling missing data, avoiding the introduction of misleading assumptions or biases. And this approach maintains data integrity by preventing incorrect, and it ensures consistency across the dataset. By keeping the handling of missing data simple and uniform, we preserve the dataset's accuracy. This method is a straightforward and reliable way to deal with missing values while maintaining the integrity of the dataset."
   ]
  },
  {
   "cell_type": "code",
   "execution_count": 10,
   "metadata": {},
   "outputs": [],
   "source": [
    "# Drop Row with Missing Value in Genres colmun\n",
    "attributes_df = attributes_df[attributes_df['Genres'].notnull()]"
   ]
  },
  {
   "cell_type": "markdown",
   "metadata": {},
   "source": [
    "Drop rows with missing values in `Genres`."
   ]
  },
  {
   "cell_type": "code",
   "execution_count": 11,
   "metadata": {
    "id": "oUBee-LPytkv"
   },
   "outputs": [
    {
     "data": {
      "text/plain": [
       "Title            0\n",
       "Domestic         0\n",
       "International    0\n",
       "Budget           0\n",
       "Distributor      0\n",
       "MPAA-Rating      0\n",
       "Runtime          0\n",
       "Genres           0\n",
       "dtype: int64"
      ]
     },
     "execution_count": 11,
     "metadata": {},
     "output_type": "execute_result"
    }
   ],
   "source": [
    "# Validate the cleaning was successful\n",
    "attributes_df.isnull().sum()"
   ]
  },
  {
   "cell_type": "markdown",
   "metadata": {
    "id": "n_DAUbJrymBL"
   },
   "source": [
    "### **Quality Issue 2: Data values fall within unacceptable ranges (Data Validity)**"
   ]
  },
  {
   "cell_type": "code",
   "execution_count": 12,
   "metadata": {
    "id": "5Yfb-Yu5MTuE"
   },
   "outputs": [],
   "source": [
    "# Calculate the 0.1st and 99.9th percentiles\n",
    "percentile_001 = daily_df['Daily'].quantile(0.001)\n",
    "percentile_999 = daily_df['Daily'].quantile(0.999)\n",
    "\n",
    "# Filter rows to remove outliers\n",
    "daily_df = daily_df[(daily_df['Daily'] >= percentile_001) & (daily_df['Daily'] <= percentile_999)]"
   ]
  },
  {
   "cell_type": "code",
   "execution_count": 14,
   "metadata": {
    "id": "ionB2sRaMUmY"
   },
   "outputs": [
    {
     "name": "stdout",
     "output_type": "stream",
     "text": [
      "Original number of rows: 253555\n",
      "Number of rows after removing outliers: 253555\n"
     ]
    },
    {
     "data": {
      "text/html": [
       "<div>\n",
       "<style scoped>\n",
       "    .dataframe tbody tr th:only-of-type {\n",
       "        vertical-align: middle;\n",
       "    }\n",
       "\n",
       "    .dataframe tbody tr th {\n",
       "        vertical-align: top;\n",
       "    }\n",
       "\n",
       "    .dataframe thead th {\n",
       "        text-align: right;\n",
       "    }\n",
       "</style>\n",
       "<table border=\"1\" class=\"dataframe\">\n",
       "  <thead>\n",
       "    <tr style=\"text-align: right;\">\n",
       "      <th></th>\n",
       "      <th>Movie_Title</th>\n",
       "      <th>Date</th>\n",
       "      <th>Daily</th>\n",
       "      <th>Theaters</th>\n",
       "      <th>Rank</th>\n",
       "    </tr>\n",
       "  </thead>\n",
       "  <tbody>\n",
       "    <tr>\n",
       "      <th>3</th>\n",
       "      <td>Jurassic World (2015)</td>\n",
       "      <td>2015-06-15</td>\n",
       "      <td>25344820</td>\n",
       "      <td>4274.0</td>\n",
       "      <td>1</td>\n",
       "    </tr>\n",
       "    <tr>\n",
       "      <th>4</th>\n",
       "      <td>Jurassic World (2015)</td>\n",
       "      <td>2015-06-16</td>\n",
       "      <td>24342515</td>\n",
       "      <td>4274.0</td>\n",
       "      <td>1</td>\n",
       "    </tr>\n",
       "    <tr>\n",
       "      <th>5</th>\n",
       "      <td>Jurassic World (2015)</td>\n",
       "      <td>2015-06-17</td>\n",
       "      <td>19895470</td>\n",
       "      <td>4274.0</td>\n",
       "      <td>1</td>\n",
       "    </tr>\n",
       "    <tr>\n",
       "      <th>6</th>\n",
       "      <td>Jurassic World (2015)</td>\n",
       "      <td>2015-06-18</td>\n",
       "      <td>17822580</td>\n",
       "      <td>4274.0</td>\n",
       "      <td>1</td>\n",
       "    </tr>\n",
       "    <tr>\n",
       "      <th>7</th>\n",
       "      <td>Jurassic World (2015)</td>\n",
       "      <td>2015-06-19</td>\n",
       "      <td>29114435</td>\n",
       "      <td>4291.0</td>\n",
       "      <td>2</td>\n",
       "    </tr>\n",
       "    <tr>\n",
       "      <th>10</th>\n",
       "      <td>Jurassic World (2015)</td>\n",
       "      <td>2015-06-22</td>\n",
       "      <td>11566225</td>\n",
       "      <td>4291.0</td>\n",
       "      <td>1</td>\n",
       "    </tr>\n",
       "    <tr>\n",
       "      <th>11</th>\n",
       "      <td>Jurassic World (2015)</td>\n",
       "      <td>2015-06-23</td>\n",
       "      <td>13130460</td>\n",
       "      <td>4291.0</td>\n",
       "      <td>1</td>\n",
       "    </tr>\n",
       "    <tr>\n",
       "      <th>12</th>\n",
       "      <td>Jurassic World (2015)</td>\n",
       "      <td>2015-06-24</td>\n",
       "      <td>9440200</td>\n",
       "      <td>4291.0</td>\n",
       "      <td>1</td>\n",
       "    </tr>\n",
       "    <tr>\n",
       "      <th>13</th>\n",
       "      <td>Jurassic World (2015)</td>\n",
       "      <td>2015-06-25</td>\n",
       "      <td>8903825</td>\n",
       "      <td>4291.0</td>\n",
       "      <td>2</td>\n",
       "    </tr>\n",
       "    <tr>\n",
       "      <th>14</th>\n",
       "      <td>Jurassic World (2015)</td>\n",
       "      <td>2015-06-26</td>\n",
       "      <td>14692885</td>\n",
       "      <td>4198.0</td>\n",
       "      <td>2</td>\n",
       "    </tr>\n",
       "  </tbody>\n",
       "</table>\n",
       "</div>"
      ],
      "text/plain": [
       "              Movie_Title        Date     Daily  Theaters  Rank\n",
       "3   Jurassic World (2015)  2015-06-15  25344820    4274.0     1\n",
       "4   Jurassic World (2015)  2015-06-16  24342515    4274.0     1\n",
       "5   Jurassic World (2015)  2015-06-17  19895470    4274.0     1\n",
       "6   Jurassic World (2015)  2015-06-18  17822580    4274.0     1\n",
       "7   Jurassic World (2015)  2015-06-19  29114435    4291.0     2\n",
       "10  Jurassic World (2015)  2015-06-22  11566225    4291.0     1\n",
       "11  Jurassic World (2015)  2015-06-23  13130460    4291.0     1\n",
       "12  Jurassic World (2015)  2015-06-24   9440200    4291.0     1\n",
       "13  Jurassic World (2015)  2015-06-25   8903825    4291.0     2\n",
       "14  Jurassic World (2015)  2015-06-26  14692885    4198.0     2"
      ]
     },
     "execution_count": 14,
     "metadata": {},
     "output_type": "execute_result"
    }
   ],
   "source": [
    "# Validate the cleaning was successful\n",
    "# Display the cleaned DataFrame\n",
    "print(f\"Original number of rows: {len(daily_df)}\")\n",
    "print(f\"Number of rows after removing outliers: {len(daily_df)}\")\n",
    "daily_df.head(10)"
   ]
  },
  {
   "cell_type": "markdown",
   "metadata": {},
   "source": [
    "**Justification:**\n",
    "- Removes Statistical Bias: Outliers, which can skew analysis or visualizations, are excluded from the dataset.\n",
    "- Focuses on Reliable Data: Ensures that the retained data represents typical behavior or trends.\n",
    "- No Assumptions: Avoids the need to replace data with median or other statistical values, which could introduce new bias."
   ]
  },
  {
   "cell_type": "markdown",
   "metadata": {
    "id": "bIUrrfSNyOPR"
   },
   "source": [
    "### **Tidiness Issue 1: Multiple Variables Stored in a Single Column**"
   ]
  },
  {
   "cell_type": "markdown",
   "metadata": {},
   "source": [
    "We want to make split of the `Genres` column into multiple rows, ensuring each row represents a single genre associated with the movie."
   ]
  },
  {
   "cell_type": "code",
   "execution_count": 15,
   "metadata": {
    "id": "fib0zAm333bn"
   },
   "outputs": [],
   "source": [
    "# Apply the cleaning strategy\n",
    "# Explode the Genres column to ensure one genre per each row we will convert delimited string into a list\n",
    "attributes_df['Genres'] = attributes_df['Genres'].str.split(';')  \n",
    "\n",
    "# Create a separate row for each genre\n",
    "attributes_df = attributes_df.explode('Genres').reset_index(drop=True)  "
   ]
  },
  {
   "cell_type": "code",
   "execution_count": 16,
   "metadata": {
    "id": "yhrnUGY_Nk8B"
   },
   "outputs": [
    {
     "data": {
      "text/html": [
       "<div>\n",
       "<style scoped>\n",
       "    .dataframe tbody tr th:only-of-type {\n",
       "        vertical-align: middle;\n",
       "    }\n",
       "\n",
       "    .dataframe tbody tr th {\n",
       "        vertical-align: top;\n",
       "    }\n",
       "\n",
       "    .dataframe thead th {\n",
       "        text-align: right;\n",
       "    }\n",
       "</style>\n",
       "<table border=\"1\" class=\"dataframe\">\n",
       "  <thead>\n",
       "    <tr style=\"text-align: right;\">\n",
       "      <th></th>\n",
       "      <th>Title</th>\n",
       "      <th>Domestic</th>\n",
       "      <th>International</th>\n",
       "      <th>Budget</th>\n",
       "      <th>Distributor</th>\n",
       "      <th>MPAA-Rating</th>\n",
       "      <th>Runtime</th>\n",
       "      <th>Genres</th>\n",
       "    </tr>\n",
       "  </thead>\n",
       "  <tbody>\n",
       "    <tr>\n",
       "      <th>0</th>\n",
       "      <td>Jurassic World (2015)</td>\n",
       "      <td>652270625</td>\n",
       "      <td>1018130012</td>\n",
       "      <td>150000000.0</td>\n",
       "      <td>Universal Pictures</td>\n",
       "      <td>PG-13</td>\n",
       "      <td>124</td>\n",
       "      <td>Action</td>\n",
       "    </tr>\n",
       "    <tr>\n",
       "      <th>1</th>\n",
       "      <td>Jurassic World (2015)</td>\n",
       "      <td>652270625</td>\n",
       "      <td>1018130012</td>\n",
       "      <td>150000000.0</td>\n",
       "      <td>Universal Pictures</td>\n",
       "      <td>PG-13</td>\n",
       "      <td>124</td>\n",
       "      <td>Adventure</td>\n",
       "    </tr>\n",
       "    <tr>\n",
       "      <th>2</th>\n",
       "      <td>Jurassic World (2015)</td>\n",
       "      <td>652270625</td>\n",
       "      <td>1018130012</td>\n",
       "      <td>150000000.0</td>\n",
       "      <td>Universal Pictures</td>\n",
       "      <td>PG-13</td>\n",
       "      <td>124</td>\n",
       "      <td>Sci-Fi</td>\n",
       "    </tr>\n",
       "    <tr>\n",
       "      <th>3</th>\n",
       "      <td>Star Wars: Episode VII - The Force Awakens (2015)</td>\n",
       "      <td>936662225</td>\n",
       "      <td>1131561399</td>\n",
       "      <td>245000000.0</td>\n",
       "      <td>Walt Disney Studios Motion Pictures</td>\n",
       "      <td>PG-13</td>\n",
       "      <td>138</td>\n",
       "      <td>Action</td>\n",
       "    </tr>\n",
       "    <tr>\n",
       "      <th>4</th>\n",
       "      <td>Star Wars: Episode VII - The Force Awakens (2015)</td>\n",
       "      <td>936662225</td>\n",
       "      <td>1131561399</td>\n",
       "      <td>245000000.0</td>\n",
       "      <td>Walt Disney Studios Motion Pictures</td>\n",
       "      <td>PG-13</td>\n",
       "      <td>138</td>\n",
       "      <td>Adventure</td>\n",
       "    </tr>\n",
       "  </tbody>\n",
       "</table>\n",
       "</div>"
      ],
      "text/plain": [
       "                                               Title   Domestic  \\\n",
       "0                              Jurassic World (2015)  652270625   \n",
       "1                              Jurassic World (2015)  652270625   \n",
       "2                              Jurassic World (2015)  652270625   \n",
       "3  Star Wars: Episode VII - The Force Awakens (2015)  936662225   \n",
       "4  Star Wars: Episode VII - The Force Awakens (2015)  936662225   \n",
       "\n",
       "   International       Budget                          Distributor  \\\n",
       "0     1018130012  150000000.0                   Universal Pictures   \n",
       "1     1018130012  150000000.0                   Universal Pictures   \n",
       "2     1018130012  150000000.0                   Universal Pictures   \n",
       "3     1131561399  245000000.0  Walt Disney Studios Motion Pictures   \n",
       "4     1131561399  245000000.0  Walt Disney Studios Motion Pictures   \n",
       "\n",
       "  MPAA-Rating  Runtime     Genres  \n",
       "0       PG-13      124     Action  \n",
       "1       PG-13      124  Adventure  \n",
       "2       PG-13      124     Sci-Fi  \n",
       "3       PG-13      138     Action  \n",
       "4       PG-13      138  Adventure  "
      ]
     },
     "execution_count": 16,
     "metadata": {},
     "output_type": "execute_result"
    }
   ],
   "source": [
    "# Validate the cleaning was successful\n",
    "# Verify the result\n",
    "attributes_df.head()"
   ]
  },
  {
   "cell_type": "markdown",
   "metadata": {},
   "source": [
    "**Justification:**\n",
    "The `Genres` column contains multiple variables (different genres values) within a single cell, making it difficult to analyze or filter data based on individual genres. For example, if you wanted to find all movies tagged as Action, you would have to perform string operations, which are inefficient. Splitting this into multiple rows where each row contains a single genre for a movie ensures that each variable forms its own column and makes analysis cleaner and more straightforward."
   ]
  },
  {
   "cell_type": "markdown",
   "metadata": {
    "id": "o51Bt8kwyTzk"
   },
   "source": [
    "### **Tidiness Issue 2: Data Tidiness > Each variable forms a column**"
   ]
  },
  {
   "cell_type": "markdown",
   "metadata": {},
   "source": [
    "We can split the `Movie_Title` column and `Title` into two separate columns: Title and Year. Here’s how you can do it:"
   ]
  },
  {
   "cell_type": "code",
   "execution_count": 17,
   "metadata": {
    "id": "7zW8O5yx4Y9O"
   },
   "outputs": [],
   "source": [
    "# Apply the cleaning strategy\n",
    "# Extract the Title and Year in daily_df\n",
    "daily_df[['Movie_Title', 'Release_Year']] = daily_df['Movie_Title'].str.extract(r'^(.*)\\s\\((\\d{4})\\)$')"
   ]
  },
  {
   "cell_type": "code",
   "execution_count": 18,
   "metadata": {},
   "outputs": [],
   "source": [
    "# Extract the Title and Year in daily_df\n",
    "attributes_df[['Title', 'Release_Year']] = attributes_df['Title'].str.extract(r'^(.*)\\s\\((\\d{4})\\)$')"
   ]
  },
  {
   "cell_type": "code",
   "execution_count": 19,
   "metadata": {
    "id": "q6I_Sr7lxXi5"
   },
   "outputs": [
    {
     "data": {
      "text/html": [
       "<div>\n",
       "<style scoped>\n",
       "    .dataframe tbody tr th:only-of-type {\n",
       "        vertical-align: middle;\n",
       "    }\n",
       "\n",
       "    .dataframe tbody tr th {\n",
       "        vertical-align: top;\n",
       "    }\n",
       "\n",
       "    .dataframe thead th {\n",
       "        text-align: right;\n",
       "    }\n",
       "</style>\n",
       "<table border=\"1\" class=\"dataframe\">\n",
       "  <thead>\n",
       "    <tr style=\"text-align: right;\">\n",
       "      <th></th>\n",
       "      <th>Movie_Title</th>\n",
       "      <th>Date</th>\n",
       "      <th>Daily</th>\n",
       "      <th>Theaters</th>\n",
       "      <th>Rank</th>\n",
       "      <th>Release_Year</th>\n",
       "    </tr>\n",
       "  </thead>\n",
       "  <tbody>\n",
       "    <tr>\n",
       "      <th>3</th>\n",
       "      <td>Jurassic World</td>\n",
       "      <td>2015-06-15</td>\n",
       "      <td>25344820</td>\n",
       "      <td>4274.0</td>\n",
       "      <td>1</td>\n",
       "      <td>2015</td>\n",
       "    </tr>\n",
       "    <tr>\n",
       "      <th>4</th>\n",
       "      <td>Jurassic World</td>\n",
       "      <td>2015-06-16</td>\n",
       "      <td>24342515</td>\n",
       "      <td>4274.0</td>\n",
       "      <td>1</td>\n",
       "      <td>2015</td>\n",
       "    </tr>\n",
       "    <tr>\n",
       "      <th>5</th>\n",
       "      <td>Jurassic World</td>\n",
       "      <td>2015-06-17</td>\n",
       "      <td>19895470</td>\n",
       "      <td>4274.0</td>\n",
       "      <td>1</td>\n",
       "      <td>2015</td>\n",
       "    </tr>\n",
       "    <tr>\n",
       "      <th>6</th>\n",
       "      <td>Jurassic World</td>\n",
       "      <td>2015-06-18</td>\n",
       "      <td>17822580</td>\n",
       "      <td>4274.0</td>\n",
       "      <td>1</td>\n",
       "      <td>2015</td>\n",
       "    </tr>\n",
       "    <tr>\n",
       "      <th>7</th>\n",
       "      <td>Jurassic World</td>\n",
       "      <td>2015-06-19</td>\n",
       "      <td>29114435</td>\n",
       "      <td>4291.0</td>\n",
       "      <td>2</td>\n",
       "      <td>2015</td>\n",
       "    </tr>\n",
       "  </tbody>\n",
       "</table>\n",
       "</div>"
      ],
      "text/plain": [
       "      Movie_Title        Date     Daily  Theaters  Rank Release_Year\n",
       "3  Jurassic World  2015-06-15  25344820    4274.0     1         2015\n",
       "4  Jurassic World  2015-06-16  24342515    4274.0     1         2015\n",
       "5  Jurassic World  2015-06-17  19895470    4274.0     1         2015\n",
       "6  Jurassic World  2015-06-18  17822580    4274.0     1         2015\n",
       "7  Jurassic World  2015-06-19  29114435    4291.0     2         2015"
      ]
     },
     "execution_count": 19,
     "metadata": {},
     "output_type": "execute_result"
    }
   ],
   "source": [
    "# Validate the cleaning was successful\n",
    "daily_df.head()"
   ]
  },
  {
   "cell_type": "code",
   "execution_count": 20,
   "metadata": {},
   "outputs": [
    {
     "data": {
      "text/html": [
       "<div>\n",
       "<style scoped>\n",
       "    .dataframe tbody tr th:only-of-type {\n",
       "        vertical-align: middle;\n",
       "    }\n",
       "\n",
       "    .dataframe tbody tr th {\n",
       "        vertical-align: top;\n",
       "    }\n",
       "\n",
       "    .dataframe thead th {\n",
       "        text-align: right;\n",
       "    }\n",
       "</style>\n",
       "<table border=\"1\" class=\"dataframe\">\n",
       "  <thead>\n",
       "    <tr style=\"text-align: right;\">\n",
       "      <th></th>\n",
       "      <th>Title</th>\n",
       "      <th>Domestic</th>\n",
       "      <th>International</th>\n",
       "      <th>Budget</th>\n",
       "      <th>Distributor</th>\n",
       "      <th>MPAA-Rating</th>\n",
       "      <th>Runtime</th>\n",
       "      <th>Genres</th>\n",
       "      <th>Release_Year</th>\n",
       "    </tr>\n",
       "  </thead>\n",
       "  <tbody>\n",
       "    <tr>\n",
       "      <th>0</th>\n",
       "      <td>Jurassic World</td>\n",
       "      <td>652270625</td>\n",
       "      <td>1018130012</td>\n",
       "      <td>150000000.0</td>\n",
       "      <td>Universal Pictures</td>\n",
       "      <td>PG-13</td>\n",
       "      <td>124</td>\n",
       "      <td>Action</td>\n",
       "      <td>2015</td>\n",
       "    </tr>\n",
       "    <tr>\n",
       "      <th>1</th>\n",
       "      <td>Jurassic World</td>\n",
       "      <td>652270625</td>\n",
       "      <td>1018130012</td>\n",
       "      <td>150000000.0</td>\n",
       "      <td>Universal Pictures</td>\n",
       "      <td>PG-13</td>\n",
       "      <td>124</td>\n",
       "      <td>Adventure</td>\n",
       "      <td>2015</td>\n",
       "    </tr>\n",
       "    <tr>\n",
       "      <th>2</th>\n",
       "      <td>Jurassic World</td>\n",
       "      <td>652270625</td>\n",
       "      <td>1018130012</td>\n",
       "      <td>150000000.0</td>\n",
       "      <td>Universal Pictures</td>\n",
       "      <td>PG-13</td>\n",
       "      <td>124</td>\n",
       "      <td>Sci-Fi</td>\n",
       "      <td>2015</td>\n",
       "    </tr>\n",
       "    <tr>\n",
       "      <th>3</th>\n",
       "      <td>Star Wars: Episode VII - The Force Awakens</td>\n",
       "      <td>936662225</td>\n",
       "      <td>1131561399</td>\n",
       "      <td>245000000.0</td>\n",
       "      <td>Walt Disney Studios Motion Pictures</td>\n",
       "      <td>PG-13</td>\n",
       "      <td>138</td>\n",
       "      <td>Action</td>\n",
       "      <td>2015</td>\n",
       "    </tr>\n",
       "    <tr>\n",
       "      <th>4</th>\n",
       "      <td>Star Wars: Episode VII - The Force Awakens</td>\n",
       "      <td>936662225</td>\n",
       "      <td>1131561399</td>\n",
       "      <td>245000000.0</td>\n",
       "      <td>Walt Disney Studios Motion Pictures</td>\n",
       "      <td>PG-13</td>\n",
       "      <td>138</td>\n",
       "      <td>Adventure</td>\n",
       "      <td>2015</td>\n",
       "    </tr>\n",
       "  </tbody>\n",
       "</table>\n",
       "</div>"
      ],
      "text/plain": [
       "                                        Title   Domestic  International  \\\n",
       "0                              Jurassic World  652270625     1018130012   \n",
       "1                              Jurassic World  652270625     1018130012   \n",
       "2                              Jurassic World  652270625     1018130012   \n",
       "3  Star Wars: Episode VII - The Force Awakens  936662225     1131561399   \n",
       "4  Star Wars: Episode VII - The Force Awakens  936662225     1131561399   \n",
       "\n",
       "        Budget                          Distributor MPAA-Rating  Runtime  \\\n",
       "0  150000000.0                   Universal Pictures       PG-13      124   \n",
       "1  150000000.0                   Universal Pictures       PG-13      124   \n",
       "2  150000000.0                   Universal Pictures       PG-13      124   \n",
       "3  245000000.0  Walt Disney Studios Motion Pictures       PG-13      138   \n",
       "4  245000000.0  Walt Disney Studios Motion Pictures       PG-13      138   \n",
       "\n",
       "      Genres Release_Year  \n",
       "0     Action         2015  \n",
       "1  Adventure         2015  \n",
       "2     Sci-Fi         2015  \n",
       "3     Action         2015  \n",
       "4  Adventure         2015  "
      ]
     },
     "execution_count": 20,
     "metadata": {},
     "output_type": "execute_result"
    }
   ],
   "source": [
    "attributes_df.head()"
   ]
  },
  {
   "cell_type": "markdown",
   "metadata": {},
   "source": [
    "**Justification:**\n",
    "\n",
    "Now If you need to analyze the data by year or name separately, combining them in one column makes it harder to extract information programmatically. In such cases, splitting `Movie_Title` into `Title` and `Year` columns improves usability and tidiness."
   ]
  },
  {
   "cell_type": "markdown",
   "metadata": {},
   "source": [
    "### **Remove unnecessary variables and combine datasets**\n"
   ]
  },
  {
   "cell_type": "code",
   "execution_count": 35,
   "metadata": {},
   "outputs": [
    {
     "data": {
      "text/html": [
       "<div>\n",
       "<style scoped>\n",
       "    .dataframe tbody tr th:only-of-type {\n",
       "        vertical-align: middle;\n",
       "    }\n",
       "\n",
       "    .dataframe tbody tr th {\n",
       "        vertical-align: top;\n",
       "    }\n",
       "\n",
       "    .dataframe thead th {\n",
       "        text-align: right;\n",
       "    }\n",
       "</style>\n",
       "<table border=\"1\" class=\"dataframe\">\n",
       "  <thead>\n",
       "    <tr style=\"text-align: right;\">\n",
       "      <th></th>\n",
       "      <th>Movie_Title</th>\n",
       "      <th>Date</th>\n",
       "      <th>Daily</th>\n",
       "      <th>Theaters</th>\n",
       "      <th>Rank</th>\n",
       "      <th>Release_Year</th>\n",
       "      <th>Domestic</th>\n",
       "      <th>International</th>\n",
       "      <th>Budget</th>\n",
       "      <th>Distributor</th>\n",
       "      <th>MPAA-Rating</th>\n",
       "      <th>Runtime</th>\n",
       "      <th>Genres</th>\n",
       "    </tr>\n",
       "  </thead>\n",
       "  <tbody>\n",
       "    <tr>\n",
       "      <th>0</th>\n",
       "      <td>Jurassic World</td>\n",
       "      <td>2015-06-15</td>\n",
       "      <td>25344820</td>\n",
       "      <td>4274.0</td>\n",
       "      <td>1</td>\n",
       "      <td>2015</td>\n",
       "      <td>652270625</td>\n",
       "      <td>1018130012</td>\n",
       "      <td>150000000.0</td>\n",
       "      <td>Universal Pictures</td>\n",
       "      <td>PG-13</td>\n",
       "      <td>124</td>\n",
       "      <td>Action</td>\n",
       "    </tr>\n",
       "    <tr>\n",
       "      <th>1</th>\n",
       "      <td>Jurassic World</td>\n",
       "      <td>2015-06-15</td>\n",
       "      <td>25344820</td>\n",
       "      <td>4274.0</td>\n",
       "      <td>1</td>\n",
       "      <td>2015</td>\n",
       "      <td>652270625</td>\n",
       "      <td>1018130012</td>\n",
       "      <td>150000000.0</td>\n",
       "      <td>Universal Pictures</td>\n",
       "      <td>PG-13</td>\n",
       "      <td>124</td>\n",
       "      <td>Adventure</td>\n",
       "    </tr>\n",
       "    <tr>\n",
       "      <th>2</th>\n",
       "      <td>Jurassic World</td>\n",
       "      <td>2015-06-15</td>\n",
       "      <td>25344820</td>\n",
       "      <td>4274.0</td>\n",
       "      <td>1</td>\n",
       "      <td>2015</td>\n",
       "      <td>652270625</td>\n",
       "      <td>1018130012</td>\n",
       "      <td>150000000.0</td>\n",
       "      <td>Universal Pictures</td>\n",
       "      <td>PG-13</td>\n",
       "      <td>124</td>\n",
       "      <td>Sci-Fi</td>\n",
       "    </tr>\n",
       "    <tr>\n",
       "      <th>3</th>\n",
       "      <td>Jurassic World</td>\n",
       "      <td>2015-06-16</td>\n",
       "      <td>24342515</td>\n",
       "      <td>4274.0</td>\n",
       "      <td>1</td>\n",
       "      <td>2015</td>\n",
       "      <td>652270625</td>\n",
       "      <td>1018130012</td>\n",
       "      <td>150000000.0</td>\n",
       "      <td>Universal Pictures</td>\n",
       "      <td>PG-13</td>\n",
       "      <td>124</td>\n",
       "      <td>Action</td>\n",
       "    </tr>\n",
       "    <tr>\n",
       "      <th>4</th>\n",
       "      <td>Jurassic World</td>\n",
       "      <td>2015-06-16</td>\n",
       "      <td>24342515</td>\n",
       "      <td>4274.0</td>\n",
       "      <td>1</td>\n",
       "      <td>2015</td>\n",
       "      <td>652270625</td>\n",
       "      <td>1018130012</td>\n",
       "      <td>150000000.0</td>\n",
       "      <td>Universal Pictures</td>\n",
       "      <td>PG-13</td>\n",
       "      <td>124</td>\n",
       "      <td>Adventure</td>\n",
       "    </tr>\n",
       "  </tbody>\n",
       "</table>\n",
       "</div>"
      ],
      "text/plain": [
       "      Movie_Title        Date     Daily  Theaters  Rank Release_Year  \\\n",
       "0  Jurassic World  2015-06-15  25344820    4274.0     1         2015   \n",
       "1  Jurassic World  2015-06-15  25344820    4274.0     1         2015   \n",
       "2  Jurassic World  2015-06-15  25344820    4274.0     1         2015   \n",
       "3  Jurassic World  2015-06-16  24342515    4274.0     1         2015   \n",
       "4  Jurassic World  2015-06-16  24342515    4274.0     1         2015   \n",
       "\n",
       "    Domestic  International       Budget         Distributor MPAA-Rating  \\\n",
       "0  652270625     1018130012  150000000.0  Universal Pictures       PG-13   \n",
       "1  652270625     1018130012  150000000.0  Universal Pictures       PG-13   \n",
       "2  652270625     1018130012  150000000.0  Universal Pictures       PG-13   \n",
       "3  652270625     1018130012  150000000.0  Universal Pictures       PG-13   \n",
       "4  652270625     1018130012  150000000.0  Universal Pictures       PG-13   \n",
       "\n",
       "   Runtime     Genres  \n",
       "0      124     Action  \n",
       "1      124  Adventure  \n",
       "2      124     Sci-Fi  \n",
       "3      124     Action  \n",
       "4      124  Adventure  "
      ]
     },
     "execution_count": 35,
     "metadata": {},
     "output_type": "execute_result"
    }
   ],
   "source": [
    "# Combine two datasets\n",
    "# Rename columns to prepare for merging\n",
    "attributes_df.rename(columns={'Title': 'Movie_Title'}, inplace=True)\n",
    "\n",
    "# Combine datasets on the shared column \"Movie_Title\"\n",
    "combined_df = pd.merge(\n",
    "    daily_df,\n",
    "    attributes_df,\n",
    "    on=[\"Movie_Title\", \"Release_Year\"],\n",
    "    how=\"inner\"\n",
    ")\n",
    "combined_df.head()"
   ]
  },
  {
   "cell_type": "code",
   "execution_count": 36,
   "metadata": {},
   "outputs": [
    {
     "name": "stdout",
     "output_type": "stream",
     "text": [
      "<class 'pandas.core.frame.DataFrame'>\n",
      "RangeIndex: 821363 entries, 0 to 821362\n",
      "Data columns (total 13 columns):\n",
      " #   Column         Non-Null Count   Dtype  \n",
      "---  ------         --------------   -----  \n",
      " 0   Movie_Title    821363 non-null  object \n",
      " 1   Date           821363 non-null  object \n",
      " 2   Daily          821363 non-null  int64  \n",
      " 3   Theaters       821191 non-null  float64\n",
      " 4   Rank           821363 non-null  int64  \n",
      " 5   Release_Year   821363 non-null  object \n",
      " 6   Domestic       821363 non-null  int64  \n",
      " 7   International  821363 non-null  int64  \n",
      " 8   Budget         821363 non-null  float64\n",
      " 9   Distributor    821363 non-null  object \n",
      " 10  MPAA-Rating    821363 non-null  object \n",
      " 11  Runtime        821363 non-null  int64  \n",
      " 12  Genres         821363 non-null  object \n",
      "dtypes: float64(2), int64(5), object(6)\n",
      "memory usage: 81.5+ MB\n"
     ]
    }
   ],
   "source": [
    "# Show the information of combined dataset\n",
    "combined_df.info()"
   ]
  },
  {
   "cell_type": "code",
   "execution_count": 41,
   "metadata": {},
   "outputs": [],
   "source": [
    "# Remove unnecessary variables \n",
    "# Drop columns that are irrelevant for your analysis\n",
    "columns_to_drop = ['Runtime']\n",
    "combined_df.drop(columns=columns_to_drop, errors='ignore', inplace=True)"
   ]
  },
  {
   "cell_type": "code",
   "execution_count": 42,
   "metadata": {},
   "outputs": [
    {
     "name": "stdout",
     "output_type": "stream",
     "text": [
      "Combined Dataset:\n",
      "<class 'pandas.core.frame.DataFrame'>\n",
      "RangeIndex: 821363 entries, 0 to 821362\n",
      "Data columns (total 12 columns):\n",
      " #   Column         Non-Null Count   Dtype  \n",
      "---  ------         --------------   -----  \n",
      " 0   Movie_Title    821363 non-null  object \n",
      " 1   Date           821363 non-null  object \n",
      " 2   Daily          821363 non-null  int64  \n",
      " 3   Theaters       821191 non-null  float64\n",
      " 4   Rank           821363 non-null  int64  \n",
      " 5   Release_Year   821363 non-null  object \n",
      " 6   Domestic       821363 non-null  int64  \n",
      " 7   International  821363 non-null  int64  \n",
      " 8   Budget         821363 non-null  float64\n",
      " 9   Distributor    821363 non-null  object \n",
      " 10  MPAA-Rating    821363 non-null  object \n",
      " 11  Genres         821363 non-null  object \n",
      "dtypes: float64(2), int64(4), object(6)\n",
      "memory usage: 75.2+ MB\n"
     ]
    }
   ],
   "source": [
    "# Show a summary of the combined dataset\n",
    "print(\"Combined Dataset:\")\n",
    "combined_df.info()"
   ]
  },
  {
   "cell_type": "markdown",
   "metadata": {
    "id": "F42urHuzttjF"
   },
   "source": [
    "## 4. Update your data store\n",
    "Update our local database/data store with the cleaned data."
   ]
  },
  {
   "cell_type": "code",
   "execution_count": 43,
   "metadata": {
    "id": "V3uay7EJUV_L"
   },
   "outputs": [],
   "source": [
    "# Save the raw datasets\n",
    "attributes_df.to_csv('raw_attributes_df.csv', index=False)\n",
    "daily_df.to_csv('raw_daily_df.csv', index=False)"
   ]
  },
  {
   "cell_type": "code",
   "execution_count": 44,
   "metadata": {},
   "outputs": [],
   "source": [
    "# Save the cleaned combined dataset\n",
    "combined_df.to_csv('cleaned_combined_df.csv', index=False)"
   ]
  },
  {
   "cell_type": "code",
   "execution_count": 45,
   "metadata": {},
   "outputs": [
    {
     "name": "stdout",
     "output_type": "stream",
     "text": [
      "Datasets saved:\n",
      " - raw_attributes_df.csv\n",
      " - raw_daily_df.csv\n",
      " - cleaned_combined_df.csv\n"
     ]
    }
   ],
   "source": [
    "# Confirm the files are saved\n",
    "print(\"Datasets saved:\")\n",
    "print(\" - raw_attributes_df.csv\")\n",
    "print(\" - raw_daily_df.csv\")\n",
    "print(\" - cleaned_combined_df.csv\")"
   ]
  },
  {
   "cell_type": "markdown",
   "metadata": {
    "id": "cGy_yddGtzhM"
   },
   "source": [
    "## 5. Answer the research question\n",
    "\n",
    "### **5.1:** Define and answer the research question \n",
    "Going back to the problem statement in step 1, use the cleaned data to answer the question you raised. Produce **at least** two visualizations using the cleaned data and explain how they help you answer the question."
   ]
  },
  {
   "cell_type": "markdown",
   "metadata": {
    "id": "gjedE4s4ZkEd"
   },
   "source": [
    "### ***Research question:*** What factors most influence daily box office performance?"
   ]
  },
  {
   "cell_type": "markdown",
   "metadata": {},
   "source": [
    "Using the cleaned and merged dataset, we will analyze the impact of Budget and Genres on daily box office performance. These factors provide insights into the financial planning and thematic appeal of **movies**.\n",
    "\n",
    "Steps:\n",
    "\n",
    "- Investigate the relationship between Budget and Daily earnings.\n",
    "- Explore how `Genres` affect average daily revenue."
   ]
  },
  {
   "cell_type": "code",
   "execution_count": 66,
   "metadata": {
    "id": "Lkw3rW9kZmOm"
   },
   "outputs": [
    {
     "data": {
      "image/png": "[encoded data removed]",
      "text/plain": [
       "<Figure size 800x500 with 1 Axes>"
      ]
     },
     "metadata": {},
     "output_type": "display_data"
    }
   ],
   "source": [
    "#Visual 1 : Budget vs. Daily Earnings\n",
    "# Budget vs. Daily Earnings\n",
    "def plot_budget_vs_daily(data, x_col, y_col, hue_col, title, x_label, y_label):\n",
    "    \"\"\"\n",
    "    Plots a scatterplot to show the relationship between budget and daily earnings.\n",
    "    \n",
    "    Parameters:\n",
    "        data (pd.DataFrame): The dataset to plot.\n",
    "        hue_col (str): Column name for the hue (categorical variable).\n",
    "        title (str): Title of the plot.\n",
    "    \"\"\"\n",
    "    plt.figure(figsize=(8, 5))\n",
    "    sns.scatterplot(data=data, x=x_col, y=y_col, hue=hue_col, alpha=0.7)\n",
    "    plt.title(title, fontsize=12)\n",
    "    plt.xlabel(x_label, fontsize=12)\n",
    "    plt.ylabel(y_label, fontsize=12)\n",
    "    plt.legend(title=hue_col.capitalize(), bbox_to_anchor=(1.05, 1), loc='upper left')\n",
    "    plt.tight_layout()\n",
    "    plt.show()\n",
    "\n",
    "# Call function\n",
    "plot_budget_vs_daily(\n",
    "    data=combined_df,\n",
    "    x_col='Budget',\n",
    "    y_col='Daily',\n",
    "    hue_col='Genres',\n",
    "    title='Relationship Between Budget and Daily Earnings',\n",
    "    x_label='Budget (in USD)',\n",
    "    y_label='Daily Earnings (in USD)'\n",
    ")"
   ]
  },
  {
   "cell_type": "markdown",
   "metadata": {},
   "source": [
    "**Explanation And Answer:**\n",
    "- Multiple genres (e.g., Action, Adventure, Sci-Fi) dominate high-budget movies, as indicated by their colors in the higher x-axis range.\n",
    "- Family-friendly genres like Animation seem to perform consistently well at varying budget levels.\n",
    "\n",
    "**Limitations:**\n",
    "- Overlapping Data Points: With a large dataset, overlapping points make it harder to differentiate individual observations.\n",
    "- Genre Influence: Although genres are shown, the effect of genre on the relationship between budget and earnings isn't fully isolated here.\n",
    "\n",
    "**Potential Questions to Explore:**\n",
    "- Which genre consistently generates the most revenue for a given budget range?"
   ]
  },
  {
   "cell_type": "code",
   "execution_count": 59,
   "metadata": {
    "id": "6fdK_8ZGZm9R"
   },
   "outputs": [
    {
     "data": {
      "image/png": "[encoded data removed]",
      "text/plain": [
       "<Figure size 1200x600 with 1 Axes>"
      ]
     },
     "metadata": {},
     "output_type": "display_data"
    }
   ],
   "source": [
    "#Visual 2 - Average Daily Earnings by Genre\n",
    "# Average Daily Earnings by Genre\n",
    "def plot_avg_daily_by_genre(data, genre_col, daily_col, title, x_label, y_label):\n",
    "    \"\"\"\n",
    "    Plots a bar chart showing the average daily earnings by genre.\n",
    "\n",
    "    Parameters:\n",
    "        data (pd.DataFrame): The dataset to analyze.\n",
    "        genre_col (str): Column name for the genres.\n",
    "        daily_col (str): Column name for daily earnings.\n",
    "        title (str): Title of the plot.\n",
    "    \"\"\"\n",
    "    # Calculate average daily earnings by genre\n",
    "    avg_daily_by_genre = data.groupby(genre_col)[daily_col].mean().sort_values(ascending=False)\n",
    "    \n",
    "    # Bar plot\n",
    "    plt.figure(figsize=(12, 6))\n",
    "    avg_daily_by_genre.plot(kind='bar', color='skyblue', edgecolor='black')\n",
    "    plt.title(title, fontsize=16)\n",
    "    plt.xlabel(x_label, fontsize=12)\n",
    "    plt.ylabel(y_label, fontsize=12)\n",
    "    plt.xticks(rotation=45, ha='right')\n",
    "    plt.tight_layout()\n",
    "    plt.show()\n",
    "\n",
    "# Cell function\n",
    "plot_avg_daily_by_genre(\n",
    "    data=combined_df,\n",
    "    genre_col='Genres',\n",
    "    daily_col='Daily',\n",
    "    title='Average Daily Earnings by Genre',\n",
    "    x_label='Genre',\n",
    "    y_label='Average Daily Earnings (in USD)'\n",
    ")"
   ]
  },
  {
   "cell_type": "markdown",
   "metadata": {
    "id": "K5RgvMGUZoHn"
   },
   "source": [
    "**Explanation And Answer:**\n",
    "- **Insight:** Genres such as Sci-Fi and Adventure show higher average daily earnings compared to others, while niche genres like News or Short perform lower.\n",
    "- **Interpretation:** This suggests that specific genres resonate more with audiences and drive higher revenue, likely due to broader appeal and repeat viewings."
   ]
  },
  {
   "cell_type": "markdown",
   "metadata": {
    "id": "0ezWXXZVj-TP"
   },
   "source": [
    "### **5.2:** Reflection"
   ]
  },
  {
   "cell_type": "markdown",
   "metadata": {
    "id": "XB3RBDG5kFe1"
   },
   "source": [
    "**Answer:** If I had more time to complete the project, I would delve deeper into analyzing other factors like Distributor influence and Release Date trends to determine their impact on daily box office performance. Additionally, I would address any remaining missing or inconsistent data, particularly in the Theaters column, by investigating external sources for more accurate values. Finally, I would explore advanced research questions, such as examining the interplay between budget, genre, and runtime to understand their combined effect on a movie's earnings trajectory over time."
   ]
  },
  {
   "cell_type": "code",
   "execution_count": null,
   "metadata": {},
   "outputs": [],
   "source": []
  }
 ],
 "metadata": {
  "colab": {
   "provenance": []
  },
  "kernelspec": {
   "display_name": "Python 3 (ipykernel)",
   "language": "python",
   "name": "python3"
  },
  "language_info": {
   "codemirror_mode": {
    "name": "ipython",
    "version": 3
   },
   "file_extension": ".py",
   "mimetype": "text/x-python",
   "name": "python",
   "nbconvert_exporter": "python",
   "pygments_lexer": "ipython3",
   "version": "3.10.11"
  }
 },
 "nbformat": 4,
 "nbformat_minor": 1
}
